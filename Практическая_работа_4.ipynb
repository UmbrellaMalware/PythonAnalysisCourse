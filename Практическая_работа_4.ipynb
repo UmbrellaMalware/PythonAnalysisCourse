{
  "nbformat": 4,
  "nbformat_minor": 0,
  "metadata": {
    "colab": {
      "name": "Практическая работа 4.ipynb",
      "provenance": [],
      "include_colab_link": true
    },
    "kernelspec": {
      "name": "python3",
      "display_name": "Python 3"
    },
    "language_info": {
      "name": "python"
    }
  },
  "cells": [
    {
      "cell_type": "markdown",
      "metadata": {
        "id": "view-in-github",
        "colab_type": "text"
      },
      "source": [
        "<a href=\"https://colab.research.google.com/github/UmbrellaMalware/PythonAnalysisCourse/blob/main/%D0%9F%D1%80%D0%B0%D0%BA%D1%82%D0%B8%D1%87%D0%B5%D1%81%D0%BA%D0%B0%D1%8F_%D1%80%D0%B0%D0%B1%D0%BE%D1%82%D0%B0_4.ipynb\" target=\"_parent\"><img src=\"https://colab.research.google.com/assets/colab-badge.svg\" alt=\"Open In Colab\"/></a>"
      ]
    },
    {
      "cell_type": "markdown",
      "metadata": {
        "id": "kkwfAK8py59l"
      },
      "source": [
        "# Моделирование в анализе данных"
      ]
    },
    {
      "cell_type": "markdown",
      "metadata": {
        "id": "8a1yCl1uy_ny"
      },
      "source": [
        "В этой работе вам нужно решить задачу машинного обучения на тех данных, которые вы использовали в предыдущей практической работе. Напомним требования к данным.\n",
        "\n",
        "Подберите на [kaggle](https://www.kaggle.com/datasets/) или в другом источнике датасет, удовлетворяющий следующим требованиям:\n",
        "- количество строк - не менее 10 тысяч\n",
        "- количество столбцов - не менее 10, из которых не менее 30% - числовые\n",
        "\n",
        "К этому моменту у вас уже выполнены этапы понимания и обработки данных. Вам остается их нормализовать (при необходимости) и построить модель, решающую некоторую полезную задачу. Какую именно - зависит от вашего датасета, это может быть классификация, кластеризация или регрессия.\n",
        "\n",
        "Произведите подбор и настройку параметров модели для решения выбранной вами задачи. Помните, что точность рабочей и пригодной для использования в жизни модели не должна быть ниже 95%, поэтому этапы работы должны быть следующими:\n",
        "\n",
        "1. Нормализация данных (если необходимо для модели)\n",
        "2. Выбор и реализация модели для бейзлайна.\n",
        "3. Если байзлайн дал точность в 95% - попытайтесь улучшить результат. Если не дал - исследуйте существующие алгоритмы для улучшения.\n",
        "4. Если классические модели машинного обучения из sklearn не показывают хорошую точность, попытайтесь построить нейронную сеть, решающую вашу задачу. Можно использовать torch или keras на ваш выбор.\n",
        "5. Посла каждого шага оценивайте точность модели разными метриками и визуализируйте результат оценки модели.\n",
        "\n",
        "Обращайте внимание на стиль и грамотность оформления. Все визуализации должны быть выполнены на Python.\n",
        "\n",
        "Работу рекомендуется выполнять самостоятельно или в группах по 2 человека.\n",
        "\n",
        "Данные нельзя менять без уважительной причины. Уважительные причины могут быть следующие:\n",
        "1. С выбранными данными \"ну вообще не построить никакую модель\". Решение - согласовать выбор других данных с преподавателем.\n",
        "2. Вы обзавелись данными к диплому и вы считаете рациональным поработать с ними.\n",
        "3. Вы работаете с классическими табличными данными, а в дипломе будете делать анализ текста.\n",
        "В случаях 2 и 3 можно взять новые данные, в прежних группах остаться тоже можно."
      ]
    },
    {
      "cell_type": "code",
      "metadata": {
        "id": "YFkNAhdkS67v"
      },
      "source": [
        "import pandas as pd\n",
        "import numpy as np\n",
        "import seaborn as sns\n",
        "import matplotlib.pyplot as plt\n",
        "import plotly.express as px\n",
        "import datetime"
      ],
      "execution_count": 2,
      "outputs": []
    },
    {
      "cell_type": "code",
      "metadata": {
        "id": "IPaJSgVCWaLq",
        "outputId": "a0c1479c-4e73-45d0-b0ac-eaffa8c956dd",
        "colab": {
          "base_uri": "https://localhost:8080/"
        }
      },
      "source": [
        "! wget https://www.dropbox.com/s/r1c7jnfolfn372l/all_perth_310121.csv"
      ],
      "execution_count": 3,
      "outputs": [
        {
          "output_type": "stream",
          "name": "stdout",
          "text": [
            "--2021-12-05 09:48:34--  https://www.dropbox.com/s/r1c7jnfolfn372l/all_perth_310121.csv\n",
            "Resolving www.dropbox.com (www.dropbox.com)... 162.125.81.18, 2620:100:6031:18::a27d:5112\n",
            "Connecting to www.dropbox.com (www.dropbox.com)|162.125.81.18|:443... connected.\n",
            "HTTP request sent, awaiting response... 301 Moved Permanently\n",
            "Location: /s/raw/r1c7jnfolfn372l/all_perth_310121.csv [following]\n",
            "--2021-12-05 09:48:35--  https://www.dropbox.com/s/raw/r1c7jnfolfn372l/all_perth_310121.csv\n",
            "Reusing existing connection to www.dropbox.com:443.\n",
            "HTTP request sent, awaiting response... 302 Found\n",
            "Location: https://ucc9d17c6c604194c833da755c04.dl.dropboxusercontent.com/cd/0/inline/BbTieNkmM4NZt-UD52axcTybIpXQXrq80WyMsbBfToOzX6pISrRFn3EHci4WnWnvmcm6ER_O0M79XJ6p4ldTeUpDJ1aQwViDLSTWTuEQS3F4WoxDtbUGT1eps9NY2CoRcqsdkX3fBpO9S7azEGfaKr5a/file# [following]\n",
            "--2021-12-05 09:48:35--  https://ucc9d17c6c604194c833da755c04.dl.dropboxusercontent.com/cd/0/inline/BbTieNkmM4NZt-UD52axcTybIpXQXrq80WyMsbBfToOzX6pISrRFn3EHci4WnWnvmcm6ER_O0M79XJ6p4ldTeUpDJ1aQwViDLSTWTuEQS3F4WoxDtbUGT1eps9NY2CoRcqsdkX3fBpO9S7azEGfaKr5a/file\n",
            "Resolving ucc9d17c6c604194c833da755c04.dl.dropboxusercontent.com (ucc9d17c6c604194c833da755c04.dl.dropboxusercontent.com)... 162.125.81.15, 2620:100:6035:15::a27d:550f\n",
            "Connecting to ucc9d17c6c604194c833da755c04.dl.dropboxusercontent.com (ucc9d17c6c604194c833da755c04.dl.dropboxusercontent.com)|162.125.81.15|:443... connected.\n",
            "HTTP request sent, awaiting response... 200 OK\n",
            "Length: 5624697 (5.4M) [text/plain]\n",
            "Saving to: ‘all_perth_310121.csv’\n",
            "\n",
            "all_perth_310121.cs 100%[===================>]   5.36M  3.48MB/s    in 1.5s    \n",
            "\n",
            "2021-12-05 09:48:38 (3.48 MB/s) - ‘all_perth_310121.csv’ saved [5624697/5624697]\n",
            "\n"
          ]
        }
      ]
    },
    {
      "cell_type": "code",
      "metadata": {
        "id": "NBWJ2MQ-Wc0U"
      },
      "source": [
        "rawdata = pd.read_csv('all_perth_310121.csv')"
      ],
      "execution_count": 6,
      "outputs": []
    },
    {
      "cell_type": "code",
      "metadata": {
        "id": "6Jn6bsdIWlIy"
      },
      "source": [
        "rawdata.GARAGE = rawdata.GARAGE.fillna(0)\n",
        "rawdata.BUILD_YEAR = rawdata.BUILD_YEAR.fillna(rawdata.BUILD_YEAR.mean())"
      ],
      "execution_count": 8,
      "outputs": []
    },
    {
      "cell_type": "code",
      "metadata": {
        "id": "8KBUqZmWWsle"
      },
      "source": [
        "school = rawdata.drop([\"ADDRESS\", \"SUBURB\", \"NEAREST_STN\", \"NEAREST_SCH\", \"DATE_SOLD\", \"BUILD_YEAR\"], axis=1)\n",
        "school_nona = school.dropna(axis = 0)\n",
        "school_predict = school[school.NEAREST_SCH_RANK.isna()]"
      ],
      "execution_count": 10,
      "outputs": []
    },
    {
      "cell_type": "code",
      "metadata": {
        "id": "zquxHuomWx4X"
      },
      "source": [
        "X = school_nona.drop(\"NEAREST_SCH_RANK\", axis=1)\n",
        "y = school_nona.NEAREST_SCH_RANK\n",
        "from sklearn.model_selection import train_test_split\n",
        "X_train, X_test, y_train, y_test = train_test_split(X,y,test_size=0.2)"
      ],
      "execution_count": 44,
      "outputs": []
    },
    {
      "cell_type": "code",
      "metadata": {
        "id": "vFereyPBW3x5",
        "outputId": "46128b14-21f0-411a-843d-6a621e8508cb",
        "colab": {
          "base_uri": "https://localhost:8080/"
        }
      },
      "source": [
        "from sklearn.ensemble import RandomForestRegressor\n",
        "from sklearn.model_selection import cross_val_score\n",
        "RFR = RandomForestRegressor()\n",
        "RFR.fit(X_train, y_train)\n",
        "RFR.score(X_test,y_test)"
      ],
      "execution_count": 45,
      "outputs": [
        {
          "output_type": "execute_result",
          "data": {
            "text/plain": [
              "0.9695077594224782"
            ]
          },
          "metadata": {},
          "execution_count": 45
        }
      ]
    },
    {
      "cell_type": "code",
      "metadata": {
        "id": "_UHTSVRgW6c4",
        "outputId": "b78128d4-053b-444f-b700-a6364d28087e",
        "colab": {
          "base_uri": "https://localhost:8080/"
        }
      },
      "source": [
        "cross_val_score(RFR, X,y,cv=5)"
      ],
      "execution_count": 36,
      "outputs": [
        {
          "output_type": "execute_result",
          "data": {
            "text/plain": [
              "array([0.84258821, 0.83476968, 0.83558235, 0.84674119, 0.84045388])"
            ]
          },
          "metadata": {},
          "execution_count": 36
        }
      ]
    },
    {
      "cell_type": "code",
      "metadata": {
        "id": "6koAST54W9RI",
        "outputId": "34231a5d-fe82-47c9-9ae9-0a58b9d05213",
        "colab": {
          "base_uri": "https://localhost:8080/"
        }
      },
      "source": [
        "X_pred = school_predict.drop(\"NEAREST_SCH_RANK\", axis=1)\n",
        "school_predict.drop(\"NEAREST_SCH_RANK\", axis=1)\n",
        "school_predict[\"NEAREST_SCH_RANK\"]=RFR.predict(X_pred)"
      ],
      "execution_count": 16,
      "outputs": [
        {
          "output_type": "stream",
          "name": "stderr",
          "text": [
            "/usr/local/lib/python3.7/dist-packages/ipykernel_launcher.py:3: SettingWithCopyWarning:\n",
            "\n",
            "\n",
            "A value is trying to be set on a copy of a slice from a DataFrame.\n",
            "Try using .loc[row_indexer,col_indexer] = value instead\n",
            "\n",
            "See the caveats in the documentation: https://pandas.pydata.org/pandas-docs/stable/user_guide/indexing.html#returning-a-view-versus-a-copy\n",
            "\n"
          ]
        }
      ]
    },
    {
      "cell_type": "code",
      "metadata": {
        "id": "BX9bXfjbXBwi"
      },
      "source": [
        "rawdata.NEAREST_SCH_RANK.fillna(school_predict[\"NEAREST_SCH_RANK\"], inplace=True)"
      ],
      "execution_count": 24,
      "outputs": []
    },
    {
      "cell_type": "code",
      "metadata": {
        "id": "L08fXYKlXH9n"
      },
      "source": [
        "date_sold = pd.to_datetime(rawdata.DATE_SOLD)\n",
        "rawdata[\"MONTH_SOLD\"] = date_sold.apply(lambda x: x.month)\n",
        "rawdata[\"YEAR_SOLD\"] = date_sold.apply(lambda x: x.year)"
      ],
      "execution_count": 27,
      "outputs": []
    },
    {
      "cell_type": "code",
      "metadata": {
        "id": "7l_gN9NEXVG1"
      },
      "source": [
        "data = rawdata.drop([\"ADDRESS\", \"SUBURB\", \"NEAREST_SCH\", \"NEAREST_STN\", \"DATE_SOLD\"], axis=1)\n",
        "\n",
        "import pandas as pd\n",
        "from sklearn import preprocessing\n",
        "y = data.PRICE\n",
        "X = data.drop(\"PRICE\", axis=1)\n",
        "x = X.values #returns a numpy array\n",
        "min_max_scaler = preprocessing.MinMaxScaler()\n",
        "x_scaled = min_max_scaler.fit_transform(x)\n",
        "df = pd.DataFrame(x_scaled)\n",
        "\n",
        "X_train, X_test, y_train, y_test = train_test_split(X,y,test_size=0.2)"
      ],
      "execution_count": 42,
      "outputs": []
    },
    {
      "cell_type": "code",
      "metadata": {
        "id": "LFTTwvd0XX38",
        "outputId": "8d04488a-a14c-4a3d-d918-c7d35eccc76d",
        "colab": {
          "base_uri": "https://localhost:8080/"
        }
      },
      "source": [
        "RFR = RandomForestRegressor()\n",
        "RFR.fit(X_train, y_train)\n",
        "RFR.score(X_test,y_test)"
      ],
      "execution_count": 43,
      "outputs": [
        {
          "output_type": "execute_result",
          "data": {
            "text/plain": [
              "0.8426780917755813"
            ]
          },
          "metadata": {},
          "execution_count": 43
        }
      ]
    }
  ]
}