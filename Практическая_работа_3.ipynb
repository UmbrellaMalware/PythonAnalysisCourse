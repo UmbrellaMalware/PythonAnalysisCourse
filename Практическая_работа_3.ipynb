{
  "nbformat": 4,
  "nbformat_minor": 0,
  "metadata": {
    "colab": {
      "name": "Практическая работа 3.ipynb",
      "provenance": [],
      "include_colab_link": true
    },
    "kernelspec": {
      "name": "python3",
      "display_name": "Python 3"
    },
    "language_info": {
      "name": "python"
    }
  },
  "cells": [
    {
      "cell_type": "markdown",
      "metadata": {
        "id": "view-in-github",
        "colab_type": "text"
      },
      "source": [
        "<a href=\"https://colab.research.google.com/github/UmbrellaMalware/PythonAnalysisCourse/blob/main/%D0%9F%D1%80%D0%B0%D0%BA%D1%82%D0%B8%D1%87%D0%B5%D1%81%D0%BA%D0%B0%D1%8F_%D1%80%D0%B0%D0%B1%D0%BE%D1%82%D0%B0_3.ipynb\" target=\"_parent\"><img src=\"https://colab.research.google.com/assets/colab-badge.svg\" alt=\"Open In Colab\"/></a>"
      ]
    },
    {
      "cell_type": "markdown",
      "metadata": {
        "id": "kkwfAK8py59l"
      },
      "source": [
        "# Визуализационный анализ данных"
      ]
    },
    {
      "cell_type": "markdown",
      "metadata": {
        "id": "8a1yCl1uy_ny"
      },
      "source": [
        "Подберите на [kaggle](https://www.kaggle.com/datasets/) или в другом источнике датасет, удовлетворяющий следующим требованиям:\n",
        "- количество строк - не менее 10 тысяч\n",
        "- количество столбцов - не менее 10, из которых не менее 30% - числовые\n",
        "\n",
        "Произведите предобработку данных: обработайте пустые значения, оцените выбросы.\n",
        "Сформулируйте и докажите (или опровергните) 20 гипотез при помощи визуализаций имеющихся данных. Часть гипотез (но не более 25%) может касаться предобработки данных.\n",
        "\n",
        "Постарайтесь использовать разные виды диаграмм для визуализации. Обращайте внимание на стиль и грамотность оформления. Все визуализации должны быть выполнены на Python.\n",
        "\n",
        "Работу рекомендуется выполнять самостоятельно или в группах по 2 человека."
      ]
    },
    {
      "cell_type": "code",
      "metadata": {
        "id": "YFkNAhdkS67v"
      },
      "source": [
        ""
      ],
      "execution_count": null,
      "outputs": []
    }
  ]
}