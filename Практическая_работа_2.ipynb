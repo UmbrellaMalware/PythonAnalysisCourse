{
  "nbformat": 4,
  "nbformat_minor": 0,
  "metadata": {
    "colab": {
      "name": "Copy of Практическая работа 2.ipynb",
      "provenance": [],
      "include_colab_link": true
    },
    "kernelspec": {
      "name": "python3",
      "display_name": "Python 3"
    },
    "language_info": {
      "name": "python"
    }
  },
  "cells": [
    {
      "cell_type": "markdown",
      "metadata": {
        "id": "view-in-github",
        "colab_type": "text"
      },
      "source": [
        "<a href=\"https://colab.research.google.com/github/UmbrellaMalware/PythonAnalysisCourse/blob/main/%D0%9F%D1%80%D0%B0%D0%BA%D1%82%D0%B8%D1%87%D0%B5%D1%81%D0%BA%D0%B0%D1%8F_%D1%80%D0%B0%D0%B1%D0%BE%D1%82%D0%B0_2.ipynb\" target=\"_parent\"><img src=\"https://colab.research.google.com/assets/colab-badge.svg\" alt=\"Open In Colab\"/></a>"
      ]
    },
    {
      "cell_type": "markdown",
      "metadata": {
        "id": "3IwjySOHZicf"
      },
      "source": [
        "# Данные"
      ]
    },
    {
      "cell_type": "markdown",
      "metadata": {
        "id": "1ttQQ6_dPrUn"
      },
      "source": [
        "Для выполнения работы возьмите данные, которые рассматривались в колабе в примерами."
      ]
    },
    {
      "cell_type": "code",
      "metadata": {
        "id": "8mAYmogRvVY3"
      },
      "source": [
        "! pip install -q kaggle"
      ],
      "execution_count": null,
      "outputs": []
    },
    {
      "cell_type": "code",
      "metadata": {
        "id": "kBDT6V7bvdQo"
      },
      "source": [
        "from google.colab import files"
      ],
      "execution_count": null,
      "outputs": []
    },
    {
      "cell_type": "code",
      "metadata": {
        "colab": {
          "resources": {
            "http://localhost:8080/nbextensions/google.colab/files.js": {
              "data": "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",
              "ok": true,
              "headers": [
                [
                  "content-type",
                  "application/javascript"
                ]
              ],
              "status": 200,
              "status_text": ""
            }
          },
          "base_uri": "https://localhost:8080/",
          "height": 90
        },
        "id": "BOlTPvubvglN",
        "outputId": "db113294-9ed9-481d-fa26-a898bf0f5938"
      },
      "source": [
        "files.upload()"
      ],
      "execution_count": null,
      "outputs": [
        {
          "output_type": "display_data",
          "data": {
            "text/html": [
              "\n",
              "     <input type=\"file\" id=\"files-e4fbb9bc-e6d6-45d0-9cf6-af6afbc12810\" name=\"files[]\" multiple disabled\n",
              "        style=\"border:none\" />\n",
              "     <output id=\"result-e4fbb9bc-e6d6-45d0-9cf6-af6afbc12810\">\n",
              "      Upload widget is only available when the cell has been executed in the\n",
              "      current browser session. Please rerun this cell to enable.\n",
              "      </output>\n",
              "      <script src=\"/nbextensions/google.colab/files.js\"></script> "
            ],
            "text/plain": [
              "<IPython.core.display.HTML object>"
            ]
          },
          "metadata": {}
        },
        {
          "output_type": "stream",
          "name": "stdout",
          "text": [
            "Saving kaggle.json to kaggle.json\n"
          ]
        },
        {
          "output_type": "execute_result",
          "data": {
            "text/plain": [
              "{'kaggle.json': b'{\"username\":\"vladimirgoncharov\",\"key\":\"93608b4b2dd5c36098123515b068eb8e\"}'}"
            ]
          },
          "metadata": {},
          "execution_count": 3
        }
      ]
    },
    {
      "cell_type": "code",
      "metadata": {
        "id": "UmeTzH-Uv7u8"
      },
      "source": [
        "! mkdir ~/.kaggle\n",
        "! cp kaggle.json ~/.kaggle/\n",
        "! chmod 600 ~/.kaggle/kaggle.json"
      ],
      "execution_count": null,
      "outputs": []
    },
    {
      "cell_type": "code",
      "metadata": {
        "colab": {
          "base_uri": "https://localhost:8080/"
        },
        "id": "arwZSJBtwIKh",
        "outputId": "3a0bdc16-e487-453b-98fb-ee78c1a1878f"
      },
      "source": [
        "! kaggle datasets list"
      ],
      "execution_count": null,
      "outputs": [
        {
          "output_type": "stream",
          "name": "stdout",
          "text": [
            "Warning: Looks like you're using an outdated API Version, please consider updating (server 1.5.12 / client 1.5.4)\n",
            "ref                                                         title                                              size  lastUpdated          downloadCount  \n",
            "----------------------------------------------------------  ------------------------------------------------  -----  -------------------  -------------  \n",
            "gpreda/reddit-vaccine-myths                                 Reddit Vaccine Myths                              237KB  2021-11-10 18:11:20          15842  \n",
            "crowww/a-large-scale-fish-dataset                           A Large Scale Fish Dataset                          3GB  2021-04-28 17:03:01           9580  \n",
            "imsparsh/musicnet-dataset                                   MusicNet Dataset                                   22GB  2021-02-18 14:12:19           4356  \n",
            "dhruvildave/wikibooks-dataset                               Wikibooks Dataset                                   2GB  2021-10-22 10:48:21           3510  \n",
            "promptcloud/careerbuilder-job-listing-2020                  Careerbuilder Job Listing 2020                     42MB  2021-03-05 06:59:52           2683  \n",
            "nickuzmenkov/nih-chest-xrays-tfrecords                      NIH Chest X-rays TFRecords                         11GB  2021-03-09 04:49:23           1597  \n",
            "fatiimaezzahra/famous-iconic-women                          Famous Iconic Women                               838MB  2021-02-28 14:56:00           1870  \n",
            "alsgroup/end-als                                            End ALS Kaggle Challenge                           12GB  2021-04-08 12:16:37           1095  \n",
            "simiotic/github-code-snippets                               GitHub Code Snippets                                7GB  2021-03-03 11:34:39            488  \n",
            "mathurinache/twitter-edge-nodes                             Twitter Edge Nodes                                342MB  2021-03-08 06:43:04           1297  \n",
            "mathurinache/the-lj-speech-dataset                          The LJ Speech Dataset                               3GB  2021-02-15 09:19:54            474  \n",
            "coloradokb/dandelionimages                                  DandelionImages                                     4GB  2021-02-19 20:03:47           1020  \n",
            "stuartjames/lights                                          LightS: Light Specularity Dataset                  18GB  2021-02-18 14:32:26            202  \n",
            "imsparsh/accentdb-core-extended                             AccentDB - Core & Extended                          6GB  2021-02-17 14:22:54            177  \n",
            "nickuzmenkov/ranzcr-clip-kfold-tfrecords                    RANZCR CLiP KFold TFRecords                         2GB  2021-02-21 13:29:51            160  \n",
            "landrykezebou/lvzhdr-tone-mapping-benchmark-dataset-tmonet  LVZ-HDR Tone Mapping Benchmark Dataset (TMO-Net)   24GB  2021-03-01 05:03:40            232  \n",
            "datasnaek/youtube-new                                       Trending YouTube Video Statistics                 201MB  2019-06-03 00:56:47         158082  \n",
            "zynicide/wine-reviews                                       Wine Reviews                                       51MB  2017-11-27 17:08:04         148561  \n",
            "datasnaek/chess                                             Chess Game Dataset (Lichess)                        3MB  2017-09-04 03:09:09          24908  \n",
            "residentmario/ramen-ratings                                 Ramen Ratings                                      40KB  2018-01-11 16:04:39          29831  \n"
          ]
        }
      ]
    },
    {
      "cell_type": "code",
      "metadata": {
        "colab": {
          "base_uri": "https://localhost:8080/"
        },
        "id": "9Yq9bXYvyBab",
        "outputId": "6bab1f9d-6d6f-4721-f58e-d5088eaf5d29"
      },
      "source": [
        "! kaggle datasets download -d sudalairajkumar/covid19-in-india"
      ],
      "execution_count": null,
      "outputs": [
        {
          "output_type": "stream",
          "name": "stdout",
          "text": [
            "Downloading covid19-in-india.zip to /content\n",
            "\r  0% 0.00/758k [00:00<?, ?B/s]\n",
            "\r100% 758k/758k [00:00<00:00, 24.9MB/s]\n"
          ]
        }
      ]
    },
    {
      "cell_type": "code",
      "metadata": {
        "colab": {
          "base_uri": "https://localhost:8080/"
        },
        "id": "3hzYr3Jjzm7y",
        "outputId": "a89120a0-6bd6-45b8-a301-4cef8b7da70f"
      },
      "source": [
        "! mkdir covid19\n",
        "! unzip covid19-in-india.zip -d covid19"
      ],
      "execution_count": null,
      "outputs": [
        {
          "output_type": "stream",
          "name": "stdout",
          "text": [
            "Archive:  covid19-in-india.zip\n",
            "  inflating: covid19/StatewiseTestingDetails.csv  \n",
            "  inflating: covid19/covid_19_india.csv  \n",
            "  inflating: covid19/covid_vaccine_statewise.csv  \n"
          ]
        }
      ]
    },
    {
      "cell_type": "markdown",
      "metadata": {
        "id": "8S8dfoKfaGAj"
      },
      "source": [
        "# Задание 1"
      ]
    },
    {
      "cell_type": "markdown",
      "metadata": {
        "id": "lNzkZPZJaGAo"
      },
      "source": [
        "Обработайте столбцы и строки с пустами ячейками в таблице `covid_vaccine_statewise`: определите, какие стоит удалить, какие стоит заполнить и каким образом.\n",
        "\n",
        "Для ячеек, которые нужно заполнить, рассмотрите два подхода:\n",
        "1. статистический (масимальными, средними, наиболее частотными значениями)\n",
        "2. путем предсказания (регрессией или классификацией)"
      ]
    },
    {
      "cell_type": "code",
      "metadata": {
        "id": "prLkztw50LFd"
      },
      "source": [
        "import pandas as pd\n",
        "import missingno as msno"
      ],
      "execution_count": null,
      "outputs": []
    },
    {
      "cell_type": "code",
      "metadata": {
        "id": "5lHOdzx5aGAq"
      },
      "source": [
        "cvs = pd.read_csv('covid19/covid_vaccine_statewise.csv')"
      ],
      "execution_count": null,
      "outputs": []
    },
    {
      "cell_type": "code",
      "metadata": {
        "colab": {
          "base_uri": "https://localhost:8080/",
          "height": 769
        },
        "id": "3bC_8c8V1sUJ",
        "outputId": "73daaa47-9952-45a8-fdb0-5ad4aa6ffae8"
      },
      "source": [
        "msno.bar(cvs, color=\"mediumslateblue\");"
      ],
      "execution_count": null,
      "outputs": [
        {
          "output_type": "display_data",
          "data": {
            "image/png": "[encoded data removed]",
            "text/plain": [
              "<Figure size 1800x720 with 3 Axes>"
            ]
          },
          "metadata": {
            "needs_background": "light"
          }
        }
      ]
    },
    {
      "cell_type": "markdown",
      "metadata": {
        "id": "ov4lWdlK7Rhz"
      },
      "source": [
        "Предлагаю удалить колонки, заполненность которых <60%"
      ]
    },
    {
      "cell_type": "code",
      "metadata": {
        "id": "h0iuqXNa3aEF"
      },
      "source": [
        "cvs = cvs.drop(['Sputnik V (Doses Administered)', \n",
        "          'Male(Individuals Vaccinated)', \n",
        "          'Female(Individuals Vaccinated)', \n",
        "          'Transgender(Individuals Vaccinated)', \n",
        "          '18-44 Years (Doses Administered)', \n",
        "          '45-60 Years (Doses Administered)',\n",
        "          '60+ Years (Doses Administered)',\n",
        "          '18-44 Years(Individuals Vaccinated)',\n",
        "          '45-60 Years(Individuals Vaccinated)',\n",
        "          '60+ Years(Individuals Vaccinated)'], axis=1)"
      ],
      "execution_count": null,
      "outputs": []
    },
    {
      "cell_type": "code",
      "metadata": {
        "id": "Gu1spZicOC4M"
      },
      "source": [
        "cvs[\"Total Individuals Vaccinated\"].fillna(cvs[\"First Dose Administered\"], inplace=True)"
      ],
      "execution_count": null,
      "outputs": []
    },
    {
      "cell_type": "code",
      "metadata": {
        "colab": {
          "base_uri": "https://localhost:8080/",
          "height": 413
        },
        "id": "0yzVhv5qa1a0",
        "outputId": "680c4afe-9792-4716-b52a-98f8f10d7488"
      },
      "source": [
        "cvs.head(10)"
      ],
      "execution_count": null,
      "outputs": [
        {
          "output_type": "execute_result",
          "data": {
            "text/html": [
              "<div>\n",
              "<style scoped>\n",
              "    .dataframe tbody tr th:only-of-type {\n",
              "        vertical-align: middle;\n",
              "    }\n",
              "\n",
              "    .dataframe tbody tr th {\n",
              "        vertical-align: top;\n",
              "    }\n",
              "\n",
              "    .dataframe thead th {\n",
              "        text-align: right;\n",
              "    }\n",
              "</style>\n",
              "<table border=\"1\" class=\"dataframe\">\n",
              "  <thead>\n",
              "    <tr style=\"text-align: right;\">\n",
              "      <th></th>\n",
              "      <th>Updated On</th>\n",
              "      <th>State</th>\n",
              "      <th>Total Doses Administered</th>\n",
              "      <th>Sessions</th>\n",
              "      <th>Sites</th>\n",
              "      <th>First Dose Administered</th>\n",
              "      <th>Second Dose Administered</th>\n",
              "      <th>Male (Doses Administered)</th>\n",
              "      <th>Female (Doses Administered)</th>\n",
              "      <th>Transgender (Doses Administered)</th>\n",
              "      <th>Covaxin (Doses Administered)</th>\n",
              "      <th>CoviShield (Doses Administered)</th>\n",
              "      <th>AEFI</th>\n",
              "      <th>Total Individuals Vaccinated</th>\n",
              "    </tr>\n",
              "  </thead>\n",
              "  <tbody>\n",
              "    <tr>\n",
              "      <th>0</th>\n",
              "      <td>16/01/2021</td>\n",
              "      <td>India</td>\n",
              "      <td>48276.0</td>\n",
              "      <td>3455.0</td>\n",
              "      <td>2957.0</td>\n",
              "      <td>48276.0</td>\n",
              "      <td>0.0</td>\n",
              "      <td>NaN</td>\n",
              "      <td>NaN</td>\n",
              "      <td>NaN</td>\n",
              "      <td>579.0</td>\n",
              "      <td>47697.0</td>\n",
              "      <td>NaN</td>\n",
              "      <td>48276.0</td>\n",
              "    </tr>\n",
              "    <tr>\n",
              "      <th>1</th>\n",
              "      <td>17/01/2021</td>\n",
              "      <td>India</td>\n",
              "      <td>58604.0</td>\n",
              "      <td>8532.0</td>\n",
              "      <td>4954.0</td>\n",
              "      <td>58604.0</td>\n",
              "      <td>0.0</td>\n",
              "      <td>NaN</td>\n",
              "      <td>NaN</td>\n",
              "      <td>NaN</td>\n",
              "      <td>635.0</td>\n",
              "      <td>57969.0</td>\n",
              "      <td>NaN</td>\n",
              "      <td>58604.0</td>\n",
              "    </tr>\n",
              "    <tr>\n",
              "      <th>2</th>\n",
              "      <td>18/01/2021</td>\n",
              "      <td>India</td>\n",
              "      <td>99449.0</td>\n",
              "      <td>13611.0</td>\n",
              "      <td>6583.0</td>\n",
              "      <td>99449.0</td>\n",
              "      <td>0.0</td>\n",
              "      <td>NaN</td>\n",
              "      <td>NaN</td>\n",
              "      <td>NaN</td>\n",
              "      <td>1299.0</td>\n",
              "      <td>98150.0</td>\n",
              "      <td>NaN</td>\n",
              "      <td>99449.0</td>\n",
              "    </tr>\n",
              "    <tr>\n",
              "      <th>3</th>\n",
              "      <td>19/01/2021</td>\n",
              "      <td>India</td>\n",
              "      <td>195525.0</td>\n",
              "      <td>17855.0</td>\n",
              "      <td>7951.0</td>\n",
              "      <td>195525.0</td>\n",
              "      <td>0.0</td>\n",
              "      <td>NaN</td>\n",
              "      <td>NaN</td>\n",
              "      <td>NaN</td>\n",
              "      <td>3017.0</td>\n",
              "      <td>192508.0</td>\n",
              "      <td>NaN</td>\n",
              "      <td>195525.0</td>\n",
              "    </tr>\n",
              "    <tr>\n",
              "      <th>4</th>\n",
              "      <td>20/01/2021</td>\n",
              "      <td>India</td>\n",
              "      <td>251280.0</td>\n",
              "      <td>25472.0</td>\n",
              "      <td>10504.0</td>\n",
              "      <td>251280.0</td>\n",
              "      <td>0.0</td>\n",
              "      <td>NaN</td>\n",
              "      <td>NaN</td>\n",
              "      <td>NaN</td>\n",
              "      <td>3946.0</td>\n",
              "      <td>247334.0</td>\n",
              "      <td>NaN</td>\n",
              "      <td>251280.0</td>\n",
              "    </tr>\n",
              "    <tr>\n",
              "      <th>5</th>\n",
              "      <td>21/01/2021</td>\n",
              "      <td>India</td>\n",
              "      <td>365965.0</td>\n",
              "      <td>32226.0</td>\n",
              "      <td>12600.0</td>\n",
              "      <td>365965.0</td>\n",
              "      <td>0.0</td>\n",
              "      <td>NaN</td>\n",
              "      <td>NaN</td>\n",
              "      <td>NaN</td>\n",
              "      <td>5367.0</td>\n",
              "      <td>360598.0</td>\n",
              "      <td>NaN</td>\n",
              "      <td>365965.0</td>\n",
              "    </tr>\n",
              "    <tr>\n",
              "      <th>6</th>\n",
              "      <td>22/01/2021</td>\n",
              "      <td>India</td>\n",
              "      <td>549381.0</td>\n",
              "      <td>36988.0</td>\n",
              "      <td>14115.0</td>\n",
              "      <td>549381.0</td>\n",
              "      <td>0.0</td>\n",
              "      <td>NaN</td>\n",
              "      <td>NaN</td>\n",
              "      <td>NaN</td>\n",
              "      <td>8128.0</td>\n",
              "      <td>541253.0</td>\n",
              "      <td>NaN</td>\n",
              "      <td>549381.0</td>\n",
              "    </tr>\n",
              "    <tr>\n",
              "      <th>7</th>\n",
              "      <td>23/01/2021</td>\n",
              "      <td>India</td>\n",
              "      <td>759008.0</td>\n",
              "      <td>43076.0</td>\n",
              "      <td>15605.0</td>\n",
              "      <td>759008.0</td>\n",
              "      <td>0.0</td>\n",
              "      <td>NaN</td>\n",
              "      <td>NaN</td>\n",
              "      <td>NaN</td>\n",
              "      <td>11192.0</td>\n",
              "      <td>747816.0</td>\n",
              "      <td>NaN</td>\n",
              "      <td>759008.0</td>\n",
              "    </tr>\n",
              "    <tr>\n",
              "      <th>8</th>\n",
              "      <td>24/01/2021</td>\n",
              "      <td>India</td>\n",
              "      <td>835058.0</td>\n",
              "      <td>49851.0</td>\n",
              "      <td>18111.0</td>\n",
              "      <td>835058.0</td>\n",
              "      <td>0.0</td>\n",
              "      <td>NaN</td>\n",
              "      <td>NaN</td>\n",
              "      <td>NaN</td>\n",
              "      <td>13156.0</td>\n",
              "      <td>821902.0</td>\n",
              "      <td>NaN</td>\n",
              "      <td>835058.0</td>\n",
              "    </tr>\n",
              "    <tr>\n",
              "      <th>9</th>\n",
              "      <td>25/01/2021</td>\n",
              "      <td>India</td>\n",
              "      <td>1277104.0</td>\n",
              "      <td>55151.0</td>\n",
              "      <td>19682.0</td>\n",
              "      <td>1277104.0</td>\n",
              "      <td>0.0</td>\n",
              "      <td>NaN</td>\n",
              "      <td>NaN</td>\n",
              "      <td>NaN</td>\n",
              "      <td>18858.0</td>\n",
              "      <td>1258246.0</td>\n",
              "      <td>NaN</td>\n",
              "      <td>1277104.0</td>\n",
              "    </tr>\n",
              "  </tbody>\n",
              "</table>\n",
              "</div>"
            ],
            "text/plain": [
              "   Updated On  State  ...  AEFI  Total Individuals Vaccinated\n",
              "0  16/01/2021  India  ...   NaN                       48276.0\n",
              "1  17/01/2021  India  ...   NaN                       58604.0\n",
              "2  18/01/2021  India  ...   NaN                       99449.0\n",
              "3  19/01/2021  India  ...   NaN                      195525.0\n",
              "4  20/01/2021  India  ...   NaN                      251280.0\n",
              "5  21/01/2021  India  ...   NaN                      365965.0\n",
              "6  22/01/2021  India  ...   NaN                      549381.0\n",
              "7  23/01/2021  India  ...   NaN                      759008.0\n",
              "8  24/01/2021  India  ...   NaN                      835058.0\n",
              "9  25/01/2021  India  ...   NaN                     1277104.0\n",
              "\n",
              "[10 rows x 14 columns]"
            ]
          },
          "metadata": {},
          "execution_count": 90
        }
      ]
    },
    {
      "cell_type": "code",
      "metadata": {
        "id": "iFh3KHQvbNx4"
      },
      "source": [
        "from copy import deepcopy\n",
        "\n",
        "cp_cvs = deepcopy(cvs)"
      ],
      "execution_count": null,
      "outputs": []
    },
    {
      "cell_type": "code",
      "metadata": {
        "colab": {
          "base_uri": "https://localhost:8080/",
          "height": 413
        },
        "id": "1KYHrsg9baSU",
        "outputId": "14759435-7e23-44c6-ba8b-99c9e0211af1"
      },
      "source": [
        "cp_cvs.head(10)"
      ],
      "execution_count": null,
      "outputs": [
        {
          "output_type": "execute_result",
          "data": {
            "text/html": [
              "<div>\n",
              "<style scoped>\n",
              "    .dataframe tbody tr th:only-of-type {\n",
              "        vertical-align: middle;\n",
              "    }\n",
              "\n",
              "    .dataframe tbody tr th {\n",
              "        vertical-align: top;\n",
              "    }\n",
              "\n",
              "    .dataframe thead th {\n",
              "        text-align: right;\n",
              "    }\n",
              "</style>\n",
              "<table border=\"1\" class=\"dataframe\">\n",
              "  <thead>\n",
              "    <tr style=\"text-align: right;\">\n",
              "      <th></th>\n",
              "      <th>Updated On</th>\n",
              "      <th>State</th>\n",
              "      <th>Total Doses Administered</th>\n",
              "      <th>Sessions</th>\n",
              "      <th>Sites</th>\n",
              "      <th>First Dose Administered</th>\n",
              "      <th>Second Dose Administered</th>\n",
              "      <th>Male (Doses Administered)</th>\n",
              "      <th>Female (Doses Administered)</th>\n",
              "      <th>Transgender (Doses Administered)</th>\n",
              "      <th>Covaxin (Doses Administered)</th>\n",
              "      <th>CoviShield (Doses Administered)</th>\n",
              "      <th>AEFI</th>\n",
              "      <th>Total Individuals Vaccinated</th>\n",
              "    </tr>\n",
              "  </thead>\n",
              "  <tbody>\n",
              "    <tr>\n",
              "      <th>0</th>\n",
              "      <td>16/01/2021</td>\n",
              "      <td>India</td>\n",
              "      <td>48276.0</td>\n",
              "      <td>3455.0</td>\n",
              "      <td>2957.0</td>\n",
              "      <td>48276.0</td>\n",
              "      <td>0.0</td>\n",
              "      <td>NaN</td>\n",
              "      <td>NaN</td>\n",
              "      <td>NaN</td>\n",
              "      <td>579.0</td>\n",
              "      <td>47697.0</td>\n",
              "      <td>NaN</td>\n",
              "      <td>48276.0</td>\n",
              "    </tr>\n",
              "    <tr>\n",
              "      <th>1</th>\n",
              "      <td>17/01/2021</td>\n",
              "      <td>India</td>\n",
              "      <td>58604.0</td>\n",
              "      <td>8532.0</td>\n",
              "      <td>4954.0</td>\n",
              "      <td>58604.0</td>\n",
              "      <td>0.0</td>\n",
              "      <td>NaN</td>\n",
              "      <td>NaN</td>\n",
              "      <td>NaN</td>\n",
              "      <td>635.0</td>\n",
              "      <td>57969.0</td>\n",
              "      <td>NaN</td>\n",
              "      <td>58604.0</td>\n",
              "    </tr>\n",
              "    <tr>\n",
              "      <th>2</th>\n",
              "      <td>18/01/2021</td>\n",
              "      <td>India</td>\n",
              "      <td>99449.0</td>\n",
              "      <td>13611.0</td>\n",
              "      <td>6583.0</td>\n",
              "      <td>99449.0</td>\n",
              "      <td>0.0</td>\n",
              "      <td>NaN</td>\n",
              "      <td>NaN</td>\n",
              "      <td>NaN</td>\n",
              "      <td>1299.0</td>\n",
              "      <td>98150.0</td>\n",
              "      <td>NaN</td>\n",
              "      <td>99449.0</td>\n",
              "    </tr>\n",
              "    <tr>\n",
              "      <th>3</th>\n",
              "      <td>19/01/2021</td>\n",
              "      <td>India</td>\n",
              "      <td>195525.0</td>\n",
              "      <td>17855.0</td>\n",
              "      <td>7951.0</td>\n",
              "      <td>195525.0</td>\n",
              "      <td>0.0</td>\n",
              "      <td>NaN</td>\n",
              "      <td>NaN</td>\n",
              "      <td>NaN</td>\n",
              "      <td>3017.0</td>\n",
              "      <td>192508.0</td>\n",
              "      <td>NaN</td>\n",
              "      <td>195525.0</td>\n",
              "    </tr>\n",
              "    <tr>\n",
              "      <th>4</th>\n",
              "      <td>20/01/2021</td>\n",
              "      <td>India</td>\n",
              "      <td>251280.0</td>\n",
              "      <td>25472.0</td>\n",
              "      <td>10504.0</td>\n",
              "      <td>251280.0</td>\n",
              "      <td>0.0</td>\n",
              "      <td>NaN</td>\n",
              "      <td>NaN</td>\n",
              "      <td>NaN</td>\n",
              "      <td>3946.0</td>\n",
              "      <td>247334.0</td>\n",
              "      <td>NaN</td>\n",
              "      <td>251280.0</td>\n",
              "    </tr>\n",
              "    <tr>\n",
              "      <th>5</th>\n",
              "      <td>21/01/2021</td>\n",
              "      <td>India</td>\n",
              "      <td>365965.0</td>\n",
              "      <td>32226.0</td>\n",
              "      <td>12600.0</td>\n",
              "      <td>365965.0</td>\n",
              "      <td>0.0</td>\n",
              "      <td>NaN</td>\n",
              "      <td>NaN</td>\n",
              "      <td>NaN</td>\n",
              "      <td>5367.0</td>\n",
              "      <td>360598.0</td>\n",
              "      <td>NaN</td>\n",
              "      <td>365965.0</td>\n",
              "    </tr>\n",
              "    <tr>\n",
              "      <th>6</th>\n",
              "      <td>22/01/2021</td>\n",
              "      <td>India</td>\n",
              "      <td>549381.0</td>\n",
              "      <td>36988.0</td>\n",
              "      <td>14115.0</td>\n",
              "      <td>549381.0</td>\n",
              "      <td>0.0</td>\n",
              "      <td>NaN</td>\n",
              "      <td>NaN</td>\n",
              "      <td>NaN</td>\n",
              "      <td>8128.0</td>\n",
              "      <td>541253.0</td>\n",
              "      <td>NaN</td>\n",
              "      <td>549381.0</td>\n",
              "    </tr>\n",
              "    <tr>\n",
              "      <th>7</th>\n",
              "      <td>23/01/2021</td>\n",
              "      <td>India</td>\n",
              "      <td>759008.0</td>\n",
              "      <td>43076.0</td>\n",
              "      <td>15605.0</td>\n",
              "      <td>759008.0</td>\n",
              "      <td>0.0</td>\n",
              "      <td>NaN</td>\n",
              "      <td>NaN</td>\n",
              "      <td>NaN</td>\n",
              "      <td>11192.0</td>\n",
              "      <td>747816.0</td>\n",
              "      <td>NaN</td>\n",
              "      <td>759008.0</td>\n",
              "    </tr>\n",
              "    <tr>\n",
              "      <th>8</th>\n",
              "      <td>24/01/2021</td>\n",
              "      <td>India</td>\n",
              "      <td>835058.0</td>\n",
              "      <td>49851.0</td>\n",
              "      <td>18111.0</td>\n",
              "      <td>835058.0</td>\n",
              "      <td>0.0</td>\n",
              "      <td>NaN</td>\n",
              "      <td>NaN</td>\n",
              "      <td>NaN</td>\n",
              "      <td>13156.0</td>\n",
              "      <td>821902.0</td>\n",
              "      <td>NaN</td>\n",
              "      <td>835058.0</td>\n",
              "    </tr>\n",
              "    <tr>\n",
              "      <th>9</th>\n",
              "      <td>25/01/2021</td>\n",
              "      <td>India</td>\n",
              "      <td>1277104.0</td>\n",
              "      <td>55151.0</td>\n",
              "      <td>19682.0</td>\n",
              "      <td>1277104.0</td>\n",
              "      <td>0.0</td>\n",
              "      <td>NaN</td>\n",
              "      <td>NaN</td>\n",
              "      <td>NaN</td>\n",
              "      <td>18858.0</td>\n",
              "      <td>1258246.0</td>\n",
              "      <td>NaN</td>\n",
              "      <td>1277104.0</td>\n",
              "    </tr>\n",
              "  </tbody>\n",
              "</table>\n",
              "</div>"
            ],
            "text/plain": [
              "   Updated On  State  ...  AEFI  Total Individuals Vaccinated\n",
              "0  16/01/2021  India  ...   NaN                       48276.0\n",
              "1  17/01/2021  India  ...   NaN                       58604.0\n",
              "2  18/01/2021  India  ...   NaN                       99449.0\n",
              "3  19/01/2021  India  ...   NaN                      195525.0\n",
              "4  20/01/2021  India  ...   NaN                      251280.0\n",
              "5  21/01/2021  India  ...   NaN                      365965.0\n",
              "6  22/01/2021  India  ...   NaN                      549381.0\n",
              "7  23/01/2021  India  ...   NaN                      759008.0\n",
              "8  24/01/2021  India  ...   NaN                      835058.0\n",
              "9  25/01/2021  India  ...   NaN                     1277104.0\n",
              "\n",
              "[10 rows x 14 columns]"
            ]
          },
          "metadata": {},
          "execution_count": 92
        }
      ]
    },
    {
      "cell_type": "code",
      "metadata": {
        "id": "b9nvoXdGOcQa"
      },
      "source": [
        "split_idxs = [0]\n",
        "current_state = cp_cvs[\"State\"][0]\n",
        "for idx, state in cp_cvs[\"State\"].iteritems():\n",
        "  if state != current_state:\n",
        "    split_idxs.append(idx + 1)\n",
        "    current_state = state\n",
        "split_idxs.append(len(cp_cvs[\"State\"]))"
      ],
      "execution_count": null,
      "outputs": []
    },
    {
      "cell_type": "code",
      "metadata": {
        "colab": {
          "base_uri": "https://localhost:8080/",
          "height": 854
        },
        "id": "7YLFT74dSf-5",
        "outputId": "e09fae2b-0895-41f7-eef5-58f94c7f256f"
      },
      "source": [
        "partitions = []\n",
        "for idx in range(0, len(split_idxs) - 1):\n",
        "  prev = split_idxs[idx]\n",
        "  next = split_idxs[idx + 1]\n",
        "  cp_cvs[prev:prev+1].fillna(0, inplace=True)\n",
        "  partitions.append(cp_cvs[prev:next].interpolate(method='linear', limit_direction='forward'))\n",
        "\n",
        "cp_cvs = pd.concat(partitions)\n",
        "msno.bar(cp_cvs, color=\"mediumslateblue\");"
      ],
      "execution_count": null,
      "outputs": [
        {
          "output_type": "stream",
          "name": "stderr",
          "text": [
            "/usr/local/lib/python3.7/dist-packages/pandas/core/frame.py:4327: SettingWithCopyWarning: \n",
            "A value is trying to be set on a copy of a slice from a DataFrame\n",
            "\n",
            "See the caveats in the documentation: https://pandas.pydata.org/pandas-docs/stable/user_guide/indexing.html#returning-a-view-versus-a-copy\n",
            "  downcast=downcast,\n"
          ]
        },
        {
          "output_type": "display_data",
          "data": {
            "image/png": "[encoded data removed]",
            "text/plain": [
              "<Figure size 1800x720 with 3 Axes>"
            ]
          },
          "metadata": {
            "needs_background": "light"
          }
        }
      ]
    },
    {
      "cell_type": "code",
      "metadata": {
        "id": "5Y1F2gBBiNus"
      },
      "source": [
        "import time\n",
        "dataset_for_regression = deepcopy(cvs)\n",
        "dataset_for_regression[\"Updated On\"] = pd.to_datetime(dataset_for_regression[\"Updated On\"]).apply(lambda x: time.mktime(x.timetuple()))\n",
        "state_columns = pd.get_dummies(dataset_for_regression[\"State\"])\n",
        "dataset_for_regression = dataset_for_regression.join(state_columns)\n",
        "dataset_for_regression = dataset_for_regression.drop(columns=[\"Total Individuals Vaccinated\", \"State\"])"
      ],
      "execution_count": null,
      "outputs": []
    },
    {
      "cell_type": "code",
      "metadata": {
        "colab": {
          "base_uri": "https://localhost:8080/",
          "height": 343
        },
        "id": "hB0wOwrllAJ_",
        "outputId": "1709964c-296b-4789-e9ac-fd300bb362bf"
      },
      "source": [
        "dataset_for_regression.head()"
      ],
      "execution_count": null,
      "outputs": [
        {
          "output_type": "execute_result",
          "data": {
            "text/html": [
              "<div>\n",
              "<style scoped>\n",
              "    .dataframe tbody tr th:only-of-type {\n",
              "        vertical-align: middle;\n",
              "    }\n",
              "\n",
              "    .dataframe tbody tr th {\n",
              "        vertical-align: top;\n",
              "    }\n",
              "\n",
              "    .dataframe thead th {\n",
              "        text-align: right;\n",
              "    }\n",
              "</style>\n",
              "<table border=\"1\" class=\"dataframe\">\n",
              "  <thead>\n",
              "    <tr style=\"text-align: right;\">\n",
              "      <th></th>\n",
              "      <th>Updated On</th>\n",
              "      <th>Total Doses Administered</th>\n",
              "      <th>Sessions</th>\n",
              "      <th>Sites</th>\n",
              "      <th>First Dose Administered</th>\n",
              "      <th>Second Dose Administered</th>\n",
              "      <th>Male (Doses Administered)</th>\n",
              "      <th>Female (Doses Administered)</th>\n",
              "      <th>Transgender (Doses Administered)</th>\n",
              "      <th>Covaxin (Doses Administered)</th>\n",
              "      <th>CoviShield (Doses Administered)</th>\n",
              "      <th>AEFI</th>\n",
              "      <th>Andaman and Nicobar Islands</th>\n",
              "      <th>Andhra Pradesh</th>\n",
              "      <th>Arunachal Pradesh</th>\n",
              "      <th>Assam</th>\n",
              "      <th>Bihar</th>\n",
              "      <th>Chandigarh</th>\n",
              "      <th>Chhattisgarh</th>\n",
              "      <th>Dadra and Nagar Haveli and Daman and Diu</th>\n",
              "      <th>Delhi</th>\n",
              "      <th>Goa</th>\n",
              "      <th>Gujarat</th>\n",
              "      <th>Haryana</th>\n",
              "      <th>Himachal Pradesh</th>\n",
              "      <th>India</th>\n",
              "      <th>Jammu and Kashmir</th>\n",
              "      <th>Jharkhand</th>\n",
              "      <th>Karnataka</th>\n",
              "      <th>Kerala</th>\n",
              "      <th>Ladakh</th>\n",
              "      <th>Lakshadweep</th>\n",
              "      <th>Madhya Pradesh</th>\n",
              "      <th>Maharashtra</th>\n",
              "      <th>Manipur</th>\n",
              "      <th>Meghalaya</th>\n",
              "      <th>Mizoram</th>\n",
              "      <th>Nagaland</th>\n",
              "      <th>Odisha</th>\n",
              "      <th>Puducherry</th>\n",
              "      <th>Punjab</th>\n",
              "      <th>Rajasthan</th>\n",
              "      <th>Sikkim</th>\n",
              "      <th>Tamil Nadu</th>\n",
              "      <th>Telangana</th>\n",
              "      <th>Tripura</th>\n",
              "      <th>Uttar Pradesh</th>\n",
              "      <th>Uttarakhand</th>\n",
              "      <th>West Bengal</th>\n",
              "    </tr>\n",
              "  </thead>\n",
              "  <tbody>\n",
              "    <tr>\n",
              "      <th>0</th>\n",
              "      <td>1.610755e+09</td>\n",
              "      <td>48276.0</td>\n",
              "      <td>3455.0</td>\n",
              "      <td>2957.0</td>\n",
              "      <td>48276.0</td>\n",
              "      <td>0.0</td>\n",
              "      <td>NaN</td>\n",
              "      <td>NaN</td>\n",
              "      <td>NaN</td>\n",
              "      <td>579.0</td>\n",
              "      <td>47697.0</td>\n",
              "      <td>NaN</td>\n",
              "      <td>0</td>\n",
              "      <td>0</td>\n",
              "      <td>0</td>\n",
              "      <td>0</td>\n",
              "      <td>0</td>\n",
              "      <td>0</td>\n",
              "      <td>0</td>\n",
              "      <td>0</td>\n",
              "      <td>0</td>\n",
              "      <td>0</td>\n",
              "      <td>0</td>\n",
              "      <td>0</td>\n",
              "      <td>0</td>\n",
              "      <td>1</td>\n",
              "      <td>0</td>\n",
              "      <td>0</td>\n",
              "      <td>0</td>\n",
              "      <td>0</td>\n",
              "      <td>0</td>\n",
              "      <td>0</td>\n",
              "      <td>0</td>\n",
              "      <td>0</td>\n",
              "      <td>0</td>\n",
              "      <td>0</td>\n",
              "      <td>0</td>\n",
              "      <td>0</td>\n",
              "      <td>0</td>\n",
              "      <td>0</td>\n",
              "      <td>0</td>\n",
              "      <td>0</td>\n",
              "      <td>0</td>\n",
              "      <td>0</td>\n",
              "      <td>0</td>\n",
              "      <td>0</td>\n",
              "      <td>0</td>\n",
              "      <td>0</td>\n",
              "      <td>0</td>\n",
              "    </tr>\n",
              "    <tr>\n",
              "      <th>1</th>\n",
              "      <td>1.610842e+09</td>\n",
              "      <td>58604.0</td>\n",
              "      <td>8532.0</td>\n",
              "      <td>4954.0</td>\n",
              "      <td>58604.0</td>\n",
              "      <td>0.0</td>\n",
              "      <td>NaN</td>\n",
              "      <td>NaN</td>\n",
              "      <td>NaN</td>\n",
              "      <td>635.0</td>\n",
              "      <td>57969.0</td>\n",
              "      <td>NaN</td>\n",
              "      <td>0</td>\n",
              "      <td>0</td>\n",
              "      <td>0</td>\n",
              "      <td>0</td>\n",
              "      <td>0</td>\n",
              "      <td>0</td>\n",
              "      <td>0</td>\n",
              "      <td>0</td>\n",
              "      <td>0</td>\n",
              "      <td>0</td>\n",
              "      <td>0</td>\n",
              "      <td>0</td>\n",
              "      <td>0</td>\n",
              "      <td>1</td>\n",
              "      <td>0</td>\n",
              "      <td>0</td>\n",
              "      <td>0</td>\n",
              "      <td>0</td>\n",
              "      <td>0</td>\n",
              "      <td>0</td>\n",
              "      <td>0</td>\n",
              "      <td>0</td>\n",
              "      <td>0</td>\n",
              "      <td>0</td>\n",
              "      <td>0</td>\n",
              "      <td>0</td>\n",
              "      <td>0</td>\n",
              "      <td>0</td>\n",
              "      <td>0</td>\n",
              "      <td>0</td>\n",
              "      <td>0</td>\n",
              "      <td>0</td>\n",
              "      <td>0</td>\n",
              "      <td>0</td>\n",
              "      <td>0</td>\n",
              "      <td>0</td>\n",
              "      <td>0</td>\n",
              "    </tr>\n",
              "    <tr>\n",
              "      <th>2</th>\n",
              "      <td>1.610928e+09</td>\n",
              "      <td>99449.0</td>\n",
              "      <td>13611.0</td>\n",
              "      <td>6583.0</td>\n",
              "      <td>99449.0</td>\n",
              "      <td>0.0</td>\n",
              "      <td>NaN</td>\n",
              "      <td>NaN</td>\n",
              "      <td>NaN</td>\n",
              "      <td>1299.0</td>\n",
              "      <td>98150.0</td>\n",
              "      <td>NaN</td>\n",
              "      <td>0</td>\n",
              "      <td>0</td>\n",
              "      <td>0</td>\n",
              "      <td>0</td>\n",
              "      <td>0</td>\n",
              "      <td>0</td>\n",
              "      <td>0</td>\n",
              "      <td>0</td>\n",
              "      <td>0</td>\n",
              "      <td>0</td>\n",
              "      <td>0</td>\n",
              "      <td>0</td>\n",
              "      <td>0</td>\n",
              "      <td>1</td>\n",
              "      <td>0</td>\n",
              "      <td>0</td>\n",
              "      <td>0</td>\n",
              "      <td>0</td>\n",
              "      <td>0</td>\n",
              "      <td>0</td>\n",
              "      <td>0</td>\n",
              "      <td>0</td>\n",
              "      <td>0</td>\n",
              "      <td>0</td>\n",
              "      <td>0</td>\n",
              "      <td>0</td>\n",
              "      <td>0</td>\n",
              "      <td>0</td>\n",
              "      <td>0</td>\n",
              "      <td>0</td>\n",
              "      <td>0</td>\n",
              "      <td>0</td>\n",
              "      <td>0</td>\n",
              "      <td>0</td>\n",
              "      <td>0</td>\n",
              "      <td>0</td>\n",
              "      <td>0</td>\n",
              "    </tr>\n",
              "    <tr>\n",
              "      <th>3</th>\n",
              "      <td>1.611014e+09</td>\n",
              "      <td>195525.0</td>\n",
              "      <td>17855.0</td>\n",
              "      <td>7951.0</td>\n",
              "      <td>195525.0</td>\n",
              "      <td>0.0</td>\n",
              "      <td>NaN</td>\n",
              "      <td>NaN</td>\n",
              "      <td>NaN</td>\n",
              "      <td>3017.0</td>\n",
              "      <td>192508.0</td>\n",
              "      <td>NaN</td>\n",
              "      <td>0</td>\n",
              "      <td>0</td>\n",
              "      <td>0</td>\n",
              "      <td>0</td>\n",
              "      <td>0</td>\n",
              "      <td>0</td>\n",
              "      <td>0</td>\n",
              "      <td>0</td>\n",
              "      <td>0</td>\n",
              "      <td>0</td>\n",
              "      <td>0</td>\n",
              "      <td>0</td>\n",
              "      <td>0</td>\n",
              "      <td>1</td>\n",
              "      <td>0</td>\n",
              "      <td>0</td>\n",
              "      <td>0</td>\n",
              "      <td>0</td>\n",
              "      <td>0</td>\n",
              "      <td>0</td>\n",
              "      <td>0</td>\n",
              "      <td>0</td>\n",
              "      <td>0</td>\n",
              "      <td>0</td>\n",
              "      <td>0</td>\n",
              "      <td>0</td>\n",
              "      <td>0</td>\n",
              "      <td>0</td>\n",
              "      <td>0</td>\n",
              "      <td>0</td>\n",
              "      <td>0</td>\n",
              "      <td>0</td>\n",
              "      <td>0</td>\n",
              "      <td>0</td>\n",
              "      <td>0</td>\n",
              "      <td>0</td>\n",
              "      <td>0</td>\n",
              "    </tr>\n",
              "    <tr>\n",
              "      <th>4</th>\n",
              "      <td>1.611101e+09</td>\n",
              "      <td>251280.0</td>\n",
              "      <td>25472.0</td>\n",
              "      <td>10504.0</td>\n",
              "      <td>251280.0</td>\n",
              "      <td>0.0</td>\n",
              "      <td>NaN</td>\n",
              "      <td>NaN</td>\n",
              "      <td>NaN</td>\n",
              "      <td>3946.0</td>\n",
              "      <td>247334.0</td>\n",
              "      <td>NaN</td>\n",
              "      <td>0</td>\n",
              "      <td>0</td>\n",
              "      <td>0</td>\n",
              "      <td>0</td>\n",
              "      <td>0</td>\n",
              "      <td>0</td>\n",
              "      <td>0</td>\n",
              "      <td>0</td>\n",
              "      <td>0</td>\n",
              "      <td>0</td>\n",
              "      <td>0</td>\n",
              "      <td>0</td>\n",
              "      <td>0</td>\n",
              "      <td>1</td>\n",
              "      <td>0</td>\n",
              "      <td>0</td>\n",
              "      <td>0</td>\n",
              "      <td>0</td>\n",
              "      <td>0</td>\n",
              "      <td>0</td>\n",
              "      <td>0</td>\n",
              "      <td>0</td>\n",
              "      <td>0</td>\n",
              "      <td>0</td>\n",
              "      <td>0</td>\n",
              "      <td>0</td>\n",
              "      <td>0</td>\n",
              "      <td>0</td>\n",
              "      <td>0</td>\n",
              "      <td>0</td>\n",
              "      <td>0</td>\n",
              "      <td>0</td>\n",
              "      <td>0</td>\n",
              "      <td>0</td>\n",
              "      <td>0</td>\n",
              "      <td>0</td>\n",
              "      <td>0</td>\n",
              "    </tr>\n",
              "  </tbody>\n",
              "</table>\n",
              "</div>"
            ],
            "text/plain": [
              "     Updated On  Total Doses Administered  ...  Uttarakhand  West Bengal\n",
              "0  1.610755e+09                   48276.0  ...            0            0\n",
              "1  1.610842e+09                   58604.0  ...            0            0\n",
              "2  1.610928e+09                   99449.0  ...            0            0\n",
              "3  1.611014e+09                  195525.0  ...            0            0\n",
              "4  1.611101e+09                  251280.0  ...            0            0\n",
              "\n",
              "[5 rows x 49 columns]"
            ]
          },
          "metadata": {},
          "execution_count": 21
        }
      ]
    },
    {
      "cell_type": "code",
      "metadata": {
        "id": "qI60oqhCllIK"
      },
      "source": [
        "dataset_no_nans = deepcopy(dataset_for_regression[dataset_for_regression.notna().all(1)])\n",
        "dataset_to_fill = deepcopy(dataset_for_regression[dataset_for_regression.iloc[:, :11].notna().all(1)])\n",
        "dataset_to_fill = dataset_to_fill[dataset_to_fill[\"AEFI\"].isna()]\n",
        "\n",
        "targets = dataset_no_nans[\"AEFI\"]\n",
        "dataset_no_nans.drop(columns=[\"AEFI\"], axis=0, inplace=True)"
      ],
      "execution_count": null,
      "outputs": []
    },
    {
      "cell_type": "code",
      "metadata": {
        "id": "izrbjxlSvrtl"
      },
      "source": [
        "from sklearn import datasets, linear_model\n",
        "from sklearn.metrics import mean_squared_error, r2_score\n",
        "from sklearn.model_selection import train_test_split"
      ],
      "execution_count": null,
      "outputs": []
    },
    {
      "cell_type": "code",
      "metadata": {
        "id": "E4a2qjpEvs24"
      },
      "source": [
        "normalized_df=(dataset_no_nans-dataset_no_nans.min())/(dataset_no_nans.max()-dataset_no_nans.min())"
      ],
      "execution_count": null,
      "outputs": []
    },
    {
      "cell_type": "code",
      "metadata": {
        "id": "vRualDnbxCtO"
      },
      "source": [
        "X_train, X_test, y_train, y_test = train_test_split(normalized_df, targets, test_size=0.25, random_state=42)"
      ],
      "execution_count": null,
      "outputs": []
    },
    {
      "cell_type": "code",
      "metadata": {
        "colab": {
          "base_uri": "https://localhost:8080/"
        },
        "id": "dcvC_VHWuEec",
        "outputId": "f9e75055-1064-4bd1-cb09-f36caca1054c"
      },
      "source": [
        "regr = linear_model.LinearRegression()\n",
        "regr.fit(X_train, y_train)\n",
        "y_pred = regr.predict(X_test)\n",
        "print(\"Coefficients: \\n\", regr.coef_)\n",
        "print(\"Mean squared error: %.2f\" % mean_squared_error(y_test, y_pred))\n",
        "print(\"Coefficient of determination: %.2f\" % r2_score(y_test, y_pred))"
      ],
      "execution_count": null,
      "outputs": [
        {
          "output_type": "stream",
          "name": "stdout",
          "text": [
            "Coefficients: \n",
            " [ 2.35786089e+01  4.57500658e+03 -1.42075787e+03  1.19714757e+03\n",
            "  4.54402943e+03  4.68462610e+03  2.69573758e+04 -2.85540702e+04\n",
            " -1.08050121e+04  1.08466165e+03  8.68672497e+03 -8.04980664e+02\n",
            " -6.72420379e+02 -5.42672900e+02 -7.67849879e+02 -9.08723112e+02\n",
            " -7.01318542e+02 -4.16687102e+02 -7.18907427e+02 -9.56618538e+01\n",
            " -2.64472776e+02 -4.26746674e+02 -1.36031556e+02 -1.92665058e+02\n",
            "  1.43606882e+04 -8.19149931e+02 -3.32462934e+02  1.37226999e+03\n",
            "  1.36236986e+03 -8.05777270e+02 -8.03025614e+02 -6.30082384e+02\n",
            "  2.20895478e+03 -7.32287141e+02 -5.57784150e+02 -7.95318965e+01\n",
            " -7.78091906e+02 -7.85804530e+02 -7.89903103e+02 -8.57284279e+02\n",
            " -8.27281960e+02 -5.73199650e+02 -9.85705271e+02 -5.86482416e+02\n",
            " -7.94341861e+02 -1.41571275e+02 -5.63151951e+02 -2.12225382e+02]\n",
            "Mean squared error: 11367.86\n",
            "Coefficient of determination: 1.00\n"
          ]
        }
      ]
    },
    {
      "cell_type": "code",
      "metadata": {
        "id": "bbz22mxJ0hrb"
      },
      "source": [
        "dataset_to_fill.drop(columns=[\"AEFI\"], inplace=True)"
      ],
      "execution_count": null,
      "outputs": []
    },
    {
      "cell_type": "code",
      "metadata": {
        "id": "M43vDtHJy_mW"
      },
      "source": [
        "normalized_df=(dataset_to_fill-dataset_to_fill.min())/(dataset_to_fill.max()-dataset_to_fill.min())"
      ],
      "execution_count": null,
      "outputs": []
    },
    {
      "cell_type": "code",
      "metadata": {
        "id": "2Vxch7LmzciG"
      },
      "source": [
        "normalized_df.fillna(0, inplace=True)"
      ],
      "execution_count": null,
      "outputs": []
    },
    {
      "cell_type": "code",
      "metadata": {
        "id": "HTVNDCDVySQl"
      },
      "source": [
        "pred = regr.predict(normalized_df)"
      ],
      "execution_count": null,
      "outputs": []
    },
    {
      "cell_type": "code",
      "metadata": {
        "id": "Jlm_NsfC2D8N"
      },
      "source": [
        "dataset_to_fill[\"AEFI\"] = pred\n",
        "dataset_to_fill.loc[dataset_to_fill['AEFI'] < 0, 'AEFI'] = 0"
      ],
      "execution_count": null,
      "outputs": []
    },
    {
      "cell_type": "code",
      "metadata": {
        "colab": {
          "base_uri": "https://localhost:8080/",
          "height": 558
        },
        "id": "iN97M9EG2Gh2",
        "outputId": "3efcbcc5-5c32-4cec-99fa-365c4a98e88b"
      },
      "source": [
        "dataset_to_fill"
      ],
      "execution_count": null,
      "outputs": [
        {
          "output_type": "execute_result",
          "data": {
            "text/html": [
              "<div>\n",
              "<style scoped>\n",
              "    .dataframe tbody tr th:only-of-type {\n",
              "        vertical-align: middle;\n",
              "    }\n",
              "\n",
              "    .dataframe tbody tr th {\n",
              "        vertical-align: top;\n",
              "    }\n",
              "\n",
              "    .dataframe thead th {\n",
              "        text-align: right;\n",
              "    }\n",
              "</style>\n",
              "<table border=\"1\" class=\"dataframe\">\n",
              "  <thead>\n",
              "    <tr style=\"text-align: right;\">\n",
              "      <th></th>\n",
              "      <th>Updated On</th>\n",
              "      <th>Total Doses Administered</th>\n",
              "      <th>Sessions</th>\n",
              "      <th>Sites</th>\n",
              "      <th>First Dose Administered</th>\n",
              "      <th>Second Dose Administered</th>\n",
              "      <th>Male (Doses Administered)</th>\n",
              "      <th>Female (Doses Administered)</th>\n",
              "      <th>Transgender (Doses Administered)</th>\n",
              "      <th>Covaxin (Doses Administered)</th>\n",
              "      <th>CoviShield (Doses Administered)</th>\n",
              "      <th>Andaman and Nicobar Islands</th>\n",
              "      <th>Andhra Pradesh</th>\n",
              "      <th>Arunachal Pradesh</th>\n",
              "      <th>Assam</th>\n",
              "      <th>Bihar</th>\n",
              "      <th>Chandigarh</th>\n",
              "      <th>Chhattisgarh</th>\n",
              "      <th>Dadra and Nagar Haveli and Daman and Diu</th>\n",
              "      <th>Delhi</th>\n",
              "      <th>Goa</th>\n",
              "      <th>Gujarat</th>\n",
              "      <th>Haryana</th>\n",
              "      <th>Himachal Pradesh</th>\n",
              "      <th>India</th>\n",
              "      <th>Jammu and Kashmir</th>\n",
              "      <th>Jharkhand</th>\n",
              "      <th>Karnataka</th>\n",
              "      <th>Kerala</th>\n",
              "      <th>Ladakh</th>\n",
              "      <th>Lakshadweep</th>\n",
              "      <th>Madhya Pradesh</th>\n",
              "      <th>Maharashtra</th>\n",
              "      <th>Manipur</th>\n",
              "      <th>Meghalaya</th>\n",
              "      <th>Mizoram</th>\n",
              "      <th>Nagaland</th>\n",
              "      <th>Odisha</th>\n",
              "      <th>Puducherry</th>\n",
              "      <th>Punjab</th>\n",
              "      <th>Rajasthan</th>\n",
              "      <th>Sikkim</th>\n",
              "      <th>Tamil Nadu</th>\n",
              "      <th>Telangana</th>\n",
              "      <th>Tripura</th>\n",
              "      <th>Uttar Pradesh</th>\n",
              "      <th>Uttarakhand</th>\n",
              "      <th>West Bengal</th>\n",
              "      <th>AEFI</th>\n",
              "    </tr>\n",
              "  </thead>\n",
              "  <tbody>\n",
              "    <tr>\n",
              "      <th>212</th>\n",
              "      <td>1.610755e+09</td>\n",
              "      <td>23.0</td>\n",
              "      <td>2.0</td>\n",
              "      <td>2.0</td>\n",
              "      <td>23.0</td>\n",
              "      <td>0.0</td>\n",
              "      <td>12.0</td>\n",
              "      <td>11.0</td>\n",
              "      <td>0.0</td>\n",
              "      <td>0.0</td>\n",
              "      <td>23.0</td>\n",
              "      <td>1</td>\n",
              "      <td>0</td>\n",
              "      <td>0</td>\n",
              "      <td>0</td>\n",
              "      <td>0</td>\n",
              "      <td>0</td>\n",
              "      <td>0</td>\n",
              "      <td>0</td>\n",
              "      <td>0</td>\n",
              "      <td>0</td>\n",
              "      <td>0</td>\n",
              "      <td>0</td>\n",
              "      <td>0</td>\n",
              "      <td>0</td>\n",
              "      <td>0</td>\n",
              "      <td>0</td>\n",
              "      <td>0</td>\n",
              "      <td>0</td>\n",
              "      <td>0</td>\n",
              "      <td>0</td>\n",
              "      <td>0</td>\n",
              "      <td>0</td>\n",
              "      <td>0</td>\n",
              "      <td>0</td>\n",
              "      <td>0</td>\n",
              "      <td>0</td>\n",
              "      <td>0</td>\n",
              "      <td>0</td>\n",
              "      <td>0</td>\n",
              "      <td>0</td>\n",
              "      <td>0</td>\n",
              "      <td>0</td>\n",
              "      <td>0</td>\n",
              "      <td>0</td>\n",
              "      <td>0</td>\n",
              "      <td>0</td>\n",
              "      <td>0</td>\n",
              "      <td>0.000000</td>\n",
              "    </tr>\n",
              "    <tr>\n",
              "      <th>213</th>\n",
              "      <td>1.610842e+09</td>\n",
              "      <td>23.0</td>\n",
              "      <td>2.0</td>\n",
              "      <td>2.0</td>\n",
              "      <td>23.0</td>\n",
              "      <td>0.0</td>\n",
              "      <td>12.0</td>\n",
              "      <td>11.0</td>\n",
              "      <td>0.0</td>\n",
              "      <td>0.0</td>\n",
              "      <td>23.0</td>\n",
              "      <td>1</td>\n",
              "      <td>0</td>\n",
              "      <td>0</td>\n",
              "      <td>0</td>\n",
              "      <td>0</td>\n",
              "      <td>0</td>\n",
              "      <td>0</td>\n",
              "      <td>0</td>\n",
              "      <td>0</td>\n",
              "      <td>0</td>\n",
              "      <td>0</td>\n",
              "      <td>0</td>\n",
              "      <td>0</td>\n",
              "      <td>0</td>\n",
              "      <td>0</td>\n",
              "      <td>0</td>\n",
              "      <td>0</td>\n",
              "      <td>0</td>\n",
              "      <td>0</td>\n",
              "      <td>0</td>\n",
              "      <td>0</td>\n",
              "      <td>0</td>\n",
              "      <td>0</td>\n",
              "      <td>0</td>\n",
              "      <td>0</td>\n",
              "      <td>0</td>\n",
              "      <td>0</td>\n",
              "      <td>0</td>\n",
              "      <td>0</td>\n",
              "      <td>0</td>\n",
              "      <td>0</td>\n",
              "      <td>0</td>\n",
              "      <td>0</td>\n",
              "      <td>0</td>\n",
              "      <td>0</td>\n",
              "      <td>0</td>\n",
              "      <td>0</td>\n",
              "      <td>0.000000</td>\n",
              "    </tr>\n",
              "    <tr>\n",
              "      <th>214</th>\n",
              "      <td>1.610928e+09</td>\n",
              "      <td>42.0</td>\n",
              "      <td>9.0</td>\n",
              "      <td>2.0</td>\n",
              "      <td>42.0</td>\n",
              "      <td>0.0</td>\n",
              "      <td>29.0</td>\n",
              "      <td>13.0</td>\n",
              "      <td>0.0</td>\n",
              "      <td>0.0</td>\n",
              "      <td>42.0</td>\n",
              "      <td>1</td>\n",
              "      <td>0</td>\n",
              "      <td>0</td>\n",
              "      <td>0</td>\n",
              "      <td>0</td>\n",
              "      <td>0</td>\n",
              "      <td>0</td>\n",
              "      <td>0</td>\n",
              "      <td>0</td>\n",
              "      <td>0</td>\n",
              "      <td>0</td>\n",
              "      <td>0</td>\n",
              "      <td>0</td>\n",
              "      <td>0</td>\n",
              "      <td>0</td>\n",
              "      <td>0</td>\n",
              "      <td>0</td>\n",
              "      <td>0</td>\n",
              "      <td>0</td>\n",
              "      <td>0</td>\n",
              "      <td>0</td>\n",
              "      <td>0</td>\n",
              "      <td>0</td>\n",
              "      <td>0</td>\n",
              "      <td>0</td>\n",
              "      <td>0</td>\n",
              "      <td>0</td>\n",
              "      <td>0</td>\n",
              "      <td>0</td>\n",
              "      <td>0</td>\n",
              "      <td>0</td>\n",
              "      <td>0</td>\n",
              "      <td>0</td>\n",
              "      <td>0</td>\n",
              "      <td>0</td>\n",
              "      <td>0</td>\n",
              "      <td>0</td>\n",
              "      <td>0.000000</td>\n",
              "    </tr>\n",
              "    <tr>\n",
              "      <th>215</th>\n",
              "      <td>1.611014e+09</td>\n",
              "      <td>89.0</td>\n",
              "      <td>12.0</td>\n",
              "      <td>2.0</td>\n",
              "      <td>89.0</td>\n",
              "      <td>0.0</td>\n",
              "      <td>53.0</td>\n",
              "      <td>36.0</td>\n",
              "      <td>0.0</td>\n",
              "      <td>0.0</td>\n",
              "      <td>89.0</td>\n",
              "      <td>1</td>\n",
              "      <td>0</td>\n",
              "      <td>0</td>\n",
              "      <td>0</td>\n",
              "      <td>0</td>\n",
              "      <td>0</td>\n",
              "      <td>0</td>\n",
              "      <td>0</td>\n",
              "      <td>0</td>\n",
              "      <td>0</td>\n",
              "      <td>0</td>\n",
              "      <td>0</td>\n",
              "      <td>0</td>\n",
              "      <td>0</td>\n",
              "      <td>0</td>\n",
              "      <td>0</td>\n",
              "      <td>0</td>\n",
              "      <td>0</td>\n",
              "      <td>0</td>\n",
              "      <td>0</td>\n",
              "      <td>0</td>\n",
              "      <td>0</td>\n",
              "      <td>0</td>\n",
              "      <td>0</td>\n",
              "      <td>0</td>\n",
              "      <td>0</td>\n",
              "      <td>0</td>\n",
              "      <td>0</td>\n",
              "      <td>0</td>\n",
              "      <td>0</td>\n",
              "      <td>0</td>\n",
              "      <td>0</td>\n",
              "      <td>0</td>\n",
              "      <td>0</td>\n",
              "      <td>0</td>\n",
              "      <td>0</td>\n",
              "      <td>0</td>\n",
              "      <td>0.000000</td>\n",
              "    </tr>\n",
              "    <tr>\n",
              "      <th>216</th>\n",
              "      <td>1.611101e+09</td>\n",
              "      <td>124.0</td>\n",
              "      <td>16.0</td>\n",
              "      <td>3.0</td>\n",
              "      <td>124.0</td>\n",
              "      <td>0.0</td>\n",
              "      <td>67.0</td>\n",
              "      <td>57.0</td>\n",
              "      <td>0.0</td>\n",
              "      <td>0.0</td>\n",
              "      <td>124.0</td>\n",
              "      <td>1</td>\n",
              "      <td>0</td>\n",
              "      <td>0</td>\n",
              "      <td>0</td>\n",
              "      <td>0</td>\n",
              "      <td>0</td>\n",
              "      <td>0</td>\n",
              "      <td>0</td>\n",
              "      <td>0</td>\n",
              "      <td>0</td>\n",
              "      <td>0</td>\n",
              "      <td>0</td>\n",
              "      <td>0</td>\n",
              "      <td>0</td>\n",
              "      <td>0</td>\n",
              "      <td>0</td>\n",
              "      <td>0</td>\n",
              "      <td>0</td>\n",
              "      <td>0</td>\n",
              "      <td>0</td>\n",
              "      <td>0</td>\n",
              "      <td>0</td>\n",
              "      <td>0</td>\n",
              "      <td>0</td>\n",
              "      <td>0</td>\n",
              "      <td>0</td>\n",
              "      <td>0</td>\n",
              "      <td>0</td>\n",
              "      <td>0</td>\n",
              "      <td>0</td>\n",
              "      <td>0</td>\n",
              "      <td>0</td>\n",
              "      <td>0</td>\n",
              "      <td>0</td>\n",
              "      <td>0</td>\n",
              "      <td>0</td>\n",
              "      <td>0</td>\n",
              "      <td>0.000000</td>\n",
              "    </tr>\n",
              "    <tr>\n",
              "      <th>...</th>\n",
              "      <td>...</td>\n",
              "      <td>...</td>\n",
              "      <td>...</td>\n",
              "      <td>...</td>\n",
              "      <td>...</td>\n",
              "      <td>...</td>\n",
              "      <td>...</td>\n",
              "      <td>...</td>\n",
              "      <td>...</td>\n",
              "      <td>...</td>\n",
              "      <td>...</td>\n",
              "      <td>...</td>\n",
              "      <td>...</td>\n",
              "      <td>...</td>\n",
              "      <td>...</td>\n",
              "      <td>...</td>\n",
              "      <td>...</td>\n",
              "      <td>...</td>\n",
              "      <td>...</td>\n",
              "      <td>...</td>\n",
              "      <td>...</td>\n",
              "      <td>...</td>\n",
              "      <td>...</td>\n",
              "      <td>...</td>\n",
              "      <td>...</td>\n",
              "      <td>...</td>\n",
              "      <td>...</td>\n",
              "      <td>...</td>\n",
              "      <td>...</td>\n",
              "      <td>...</td>\n",
              "      <td>...</td>\n",
              "      <td>...</td>\n",
              "      <td>...</td>\n",
              "      <td>...</td>\n",
              "      <td>...</td>\n",
              "      <td>...</td>\n",
              "      <td>...</td>\n",
              "      <td>...</td>\n",
              "      <td>...</td>\n",
              "      <td>...</td>\n",
              "      <td>...</td>\n",
              "      <td>...</td>\n",
              "      <td>...</td>\n",
              "      <td>...</td>\n",
              "      <td>...</td>\n",
              "      <td>...</td>\n",
              "      <td>...</td>\n",
              "      <td>...</td>\n",
              "      <td>...</td>\n",
              "    </tr>\n",
              "    <tr>\n",
              "      <th>7687</th>\n",
              "      <td>1.635898e+09</td>\n",
              "      <td>1801974.0</td>\n",
              "      <td>361008.0</td>\n",
              "      <td>1794.0</td>\n",
              "      <td>1486241.0</td>\n",
              "      <td>315733.0</td>\n",
              "      <td>1093842.0</td>\n",
              "      <td>707926.0</td>\n",
              "      <td>206.0</td>\n",
              "      <td>191682.0</td>\n",
              "      <td>1610193.0</td>\n",
              "      <td>0</td>\n",
              "      <td>0</td>\n",
              "      <td>0</td>\n",
              "      <td>0</td>\n",
              "      <td>0</td>\n",
              "      <td>0</td>\n",
              "      <td>0</td>\n",
              "      <td>0</td>\n",
              "      <td>0</td>\n",
              "      <td>0</td>\n",
              "      <td>0</td>\n",
              "      <td>0</td>\n",
              "      <td>0</td>\n",
              "      <td>0</td>\n",
              "      <td>0</td>\n",
              "      <td>0</td>\n",
              "      <td>0</td>\n",
              "      <td>0</td>\n",
              "      <td>0</td>\n",
              "      <td>0</td>\n",
              "      <td>0</td>\n",
              "      <td>0</td>\n",
              "      <td>0</td>\n",
              "      <td>0</td>\n",
              "      <td>0</td>\n",
              "      <td>0</td>\n",
              "      <td>0</td>\n",
              "      <td>0</td>\n",
              "      <td>0</td>\n",
              "      <td>0</td>\n",
              "      <td>0</td>\n",
              "      <td>0</td>\n",
              "      <td>0</td>\n",
              "      <td>0</td>\n",
              "      <td>0</td>\n",
              "      <td>0</td>\n",
              "      <td>1</td>\n",
              "      <td>10119.983748</td>\n",
              "    </tr>\n",
              "    <tr>\n",
              "      <th>7688</th>\n",
              "      <td>1.638490e+09</td>\n",
              "      <td>1983003.0</td>\n",
              "      <td>612398.0</td>\n",
              "      <td>2987.0</td>\n",
              "      <td>1641083.0</td>\n",
              "      <td>341920.0</td>\n",
              "      <td>1195941.0</td>\n",
              "      <td>786842.0</td>\n",
              "      <td>220.0</td>\n",
              "      <td>201849.0</td>\n",
              "      <td>1781055.0</td>\n",
              "      <td>0</td>\n",
              "      <td>0</td>\n",
              "      <td>0</td>\n",
              "      <td>0</td>\n",
              "      <td>0</td>\n",
              "      <td>0</td>\n",
              "      <td>0</td>\n",
              "      <td>0</td>\n",
              "      <td>0</td>\n",
              "      <td>0</td>\n",
              "      <td>0</td>\n",
              "      <td>0</td>\n",
              "      <td>0</td>\n",
              "      <td>0</td>\n",
              "      <td>0</td>\n",
              "      <td>0</td>\n",
              "      <td>0</td>\n",
              "      <td>0</td>\n",
              "      <td>0</td>\n",
              "      <td>0</td>\n",
              "      <td>0</td>\n",
              "      <td>0</td>\n",
              "      <td>0</td>\n",
              "      <td>0</td>\n",
              "      <td>0</td>\n",
              "      <td>0</td>\n",
              "      <td>0</td>\n",
              "      <td>0</td>\n",
              "      <td>0</td>\n",
              "      <td>0</td>\n",
              "      <td>0</td>\n",
              "      <td>0</td>\n",
              "      <td>0</td>\n",
              "      <td>0</td>\n",
              "      <td>0</td>\n",
              "      <td>0</td>\n",
              "      <td>1</td>\n",
              "      <td>10659.631719</td>\n",
              "    </tr>\n",
              "    <tr>\n",
              "      <th>7689</th>\n",
              "      <td>1.615594e+09</td>\n",
              "      <td>2104249.0</td>\n",
              "      <td>464570.0</td>\n",
              "      <td>2386.0</td>\n",
              "      <td>1742140.0</td>\n",
              "      <td>362109.0</td>\n",
              "      <td>1262535.0</td>\n",
              "      <td>841476.0</td>\n",
              "      <td>238.0</td>\n",
              "      <td>208534.0</td>\n",
              "      <td>1895615.0</td>\n",
              "      <td>0</td>\n",
              "      <td>0</td>\n",
              "      <td>0</td>\n",
              "      <td>0</td>\n",
              "      <td>0</td>\n",
              "      <td>0</td>\n",
              "      <td>0</td>\n",
              "      <td>0</td>\n",
              "      <td>0</td>\n",
              "      <td>0</td>\n",
              "      <td>0</td>\n",
              "      <td>0</td>\n",
              "      <td>0</td>\n",
              "      <td>0</td>\n",
              "      <td>0</td>\n",
              "      <td>0</td>\n",
              "      <td>0</td>\n",
              "      <td>0</td>\n",
              "      <td>0</td>\n",
              "      <td>0</td>\n",
              "      <td>0</td>\n",
              "      <td>0</td>\n",
              "      <td>0</td>\n",
              "      <td>0</td>\n",
              "      <td>0</td>\n",
              "      <td>0</td>\n",
              "      <td>0</td>\n",
              "      <td>0</td>\n",
              "      <td>0</td>\n",
              "      <td>0</td>\n",
              "      <td>0</td>\n",
              "      <td>0</td>\n",
              "      <td>0</td>\n",
              "      <td>0</td>\n",
              "      <td>0</td>\n",
              "      <td>0</td>\n",
              "      <td>1</td>\n",
              "      <td>11082.587658</td>\n",
              "    </tr>\n",
              "    <tr>\n",
              "      <th>7690</th>\n",
              "      <td>1.615680e+09</td>\n",
              "      <td>2117985.0</td>\n",
              "      <td>180750.0</td>\n",
              "      <td>794.0</td>\n",
              "      <td>1753914.0</td>\n",
              "      <td>364071.0</td>\n",
              "      <td>1270369.0</td>\n",
              "      <td>847377.0</td>\n",
              "      <td>239.0</td>\n",
              "      <td>209422.0</td>\n",
              "      <td>1908463.0</td>\n",
              "      <td>0</td>\n",
              "      <td>0</td>\n",
              "      <td>0</td>\n",
              "      <td>0</td>\n",
              "      <td>0</td>\n",
              "      <td>0</td>\n",
              "      <td>0</td>\n",
              "      <td>0</td>\n",
              "      <td>0</td>\n",
              "      <td>0</td>\n",
              "      <td>0</td>\n",
              "      <td>0</td>\n",
              "      <td>0</td>\n",
              "      <td>0</td>\n",
              "      <td>0</td>\n",
              "      <td>0</td>\n",
              "      <td>0</td>\n",
              "      <td>0</td>\n",
              "      <td>0</td>\n",
              "      <td>0</td>\n",
              "      <td>0</td>\n",
              "      <td>0</td>\n",
              "      <td>0</td>\n",
              "      <td>0</td>\n",
              "      <td>0</td>\n",
              "      <td>0</td>\n",
              "      <td>0</td>\n",
              "      <td>0</td>\n",
              "      <td>0</td>\n",
              "      <td>0</td>\n",
              "      <td>0</td>\n",
              "      <td>0</td>\n",
              "      <td>0</td>\n",
              "      <td>0</td>\n",
              "      <td>0</td>\n",
              "      <td>0</td>\n",
              "      <td>1</td>\n",
              "      <td>11514.522220</td>\n",
              "    </tr>\n",
              "    <tr>\n",
              "      <th>7691</th>\n",
              "      <td>1.615766e+09</td>\n",
              "      <td>2353011.0</td>\n",
              "      <td>713800.0</td>\n",
              "      <td>3610.0</td>\n",
              "      <td>1958513.0</td>\n",
              "      <td>394498.0</td>\n",
              "      <td>1397096.0</td>\n",
              "      <td>955639.0</td>\n",
              "      <td>276.0</td>\n",
              "      <td>221521.0</td>\n",
              "      <td>2131390.0</td>\n",
              "      <td>0</td>\n",
              "      <td>0</td>\n",
              "      <td>0</td>\n",
              "      <td>0</td>\n",
              "      <td>0</td>\n",
              "      <td>0</td>\n",
              "      <td>0</td>\n",
              "      <td>0</td>\n",
              "      <td>0</td>\n",
              "      <td>0</td>\n",
              "      <td>0</td>\n",
              "      <td>0</td>\n",
              "      <td>0</td>\n",
              "      <td>0</td>\n",
              "      <td>0</td>\n",
              "      <td>0</td>\n",
              "      <td>0</td>\n",
              "      <td>0</td>\n",
              "      <td>0</td>\n",
              "      <td>0</td>\n",
              "      <td>0</td>\n",
              "      <td>0</td>\n",
              "      <td>0</td>\n",
              "      <td>0</td>\n",
              "      <td>0</td>\n",
              "      <td>0</td>\n",
              "      <td>0</td>\n",
              "      <td>0</td>\n",
              "      <td>0</td>\n",
              "      <td>0</td>\n",
              "      <td>0</td>\n",
              "      <td>0</td>\n",
              "      <td>0</td>\n",
              "      <td>0</td>\n",
              "      <td>0</td>\n",
              "      <td>0</td>\n",
              "      <td>1</td>\n",
              "      <td>11042.033730</td>\n",
              "    </tr>\n",
              "  </tbody>\n",
              "</table>\n",
              "<p>2124 rows × 49 columns</p>\n",
              "</div>"
            ],
            "text/plain": [
              "        Updated On  Total Doses Administered  ...  West Bengal          AEFI\n",
              "212   1.610755e+09                      23.0  ...            0      0.000000\n",
              "213   1.610842e+09                      23.0  ...            0      0.000000\n",
              "214   1.610928e+09                      42.0  ...            0      0.000000\n",
              "215   1.611014e+09                      89.0  ...            0      0.000000\n",
              "216   1.611101e+09                     124.0  ...            0      0.000000\n",
              "...            ...                       ...  ...          ...           ...\n",
              "7687  1.635898e+09                 1801974.0  ...            1  10119.983748\n",
              "7688  1.638490e+09                 1983003.0  ...            1  10659.631719\n",
              "7689  1.615594e+09                 2104249.0  ...            1  11082.587658\n",
              "7690  1.615680e+09                 2117985.0  ...            1  11514.522220\n",
              "7691  1.615766e+09                 2353011.0  ...            1  11042.033730\n",
              "\n",
              "[2124 rows x 49 columns]"
            ]
          },
          "metadata": {},
          "execution_count": 32
        }
      ]
    },
    {
      "cell_type": "markdown",
      "metadata": {
        "id": "Ne8YeOUOZv2i"
      },
      "source": [
        "# Задание 2"
      ]
    },
    {
      "cell_type": "markdown",
      "metadata": {
        "id": "cC_v_1DcZv2j"
      },
      "source": [
        "По таблице `covid_19_india` определите, есть ли закономерности во времени обновления данных."
      ]
    },
    {
      "cell_type": "code",
      "metadata": {
        "id": "lsPxNrfgZv2k"
      },
      "source": [
        "covid19_india = pd.read_csv('covid19/covid_19_india.csv')"
      ],
      "execution_count": null,
      "outputs": []
    },
    {
      "cell_type": "code",
      "metadata": {
        "colab": {
          "base_uri": "https://localhost:8080/",
          "height": 204
        },
        "id": "vnvNnUH539re",
        "outputId": "692d28c0-e641-47f0-b774-5855992a217c"
      },
      "source": [
        "covid19_india.head()"
      ],
      "execution_count": null,
      "outputs": [
        {
          "output_type": "execute_result",
          "data": {
            "text/html": [
              "<div>\n",
              "<style scoped>\n",
              "    .dataframe tbody tr th:only-of-type {\n",
              "        vertical-align: middle;\n",
              "    }\n",
              "\n",
              "    .dataframe tbody tr th {\n",
              "        vertical-align: top;\n",
              "    }\n",
              "\n",
              "    .dataframe thead th {\n",
              "        text-align: right;\n",
              "    }\n",
              "</style>\n",
              "<table border=\"1\" class=\"dataframe\">\n",
              "  <thead>\n",
              "    <tr style=\"text-align: right;\">\n",
              "      <th></th>\n",
              "      <th>Sno</th>\n",
              "      <th>Date</th>\n",
              "      <th>Time</th>\n",
              "      <th>State/UnionTerritory</th>\n",
              "      <th>ConfirmedIndianNational</th>\n",
              "      <th>ConfirmedForeignNational</th>\n",
              "      <th>Cured</th>\n",
              "      <th>Deaths</th>\n",
              "      <th>Confirmed</th>\n",
              "    </tr>\n",
              "  </thead>\n",
              "  <tbody>\n",
              "    <tr>\n",
              "      <th>0</th>\n",
              "      <td>1</td>\n",
              "      <td>2020-01-30</td>\n",
              "      <td>6:00 PM</td>\n",
              "      <td>Kerala</td>\n",
              "      <td>1</td>\n",
              "      <td>0</td>\n",
              "      <td>0</td>\n",
              "      <td>0</td>\n",
              "      <td>1</td>\n",
              "    </tr>\n",
              "    <tr>\n",
              "      <th>1</th>\n",
              "      <td>2</td>\n",
              "      <td>2020-01-31</td>\n",
              "      <td>6:00 PM</td>\n",
              "      <td>Kerala</td>\n",
              "      <td>1</td>\n",
              "      <td>0</td>\n",
              "      <td>0</td>\n",
              "      <td>0</td>\n",
              "      <td>1</td>\n",
              "    </tr>\n",
              "    <tr>\n",
              "      <th>2</th>\n",
              "      <td>3</td>\n",
              "      <td>2020-02-01</td>\n",
              "      <td>6:00 PM</td>\n",
              "      <td>Kerala</td>\n",
              "      <td>2</td>\n",
              "      <td>0</td>\n",
              "      <td>0</td>\n",
              "      <td>0</td>\n",
              "      <td>2</td>\n",
              "    </tr>\n",
              "    <tr>\n",
              "      <th>3</th>\n",
              "      <td>4</td>\n",
              "      <td>2020-02-02</td>\n",
              "      <td>6:00 PM</td>\n",
              "      <td>Kerala</td>\n",
              "      <td>3</td>\n",
              "      <td>0</td>\n",
              "      <td>0</td>\n",
              "      <td>0</td>\n",
              "      <td>3</td>\n",
              "    </tr>\n",
              "    <tr>\n",
              "      <th>4</th>\n",
              "      <td>5</td>\n",
              "      <td>2020-02-03</td>\n",
              "      <td>6:00 PM</td>\n",
              "      <td>Kerala</td>\n",
              "      <td>3</td>\n",
              "      <td>0</td>\n",
              "      <td>0</td>\n",
              "      <td>0</td>\n",
              "      <td>3</td>\n",
              "    </tr>\n",
              "  </tbody>\n",
              "</table>\n",
              "</div>"
            ],
            "text/plain": [
              "   Sno        Date     Time  ... Cured Deaths Confirmed\n",
              "0    1  2020-01-30  6:00 PM  ...     0      0         1\n",
              "1    2  2020-01-31  6:00 PM  ...     0      0         1\n",
              "2    3  2020-02-01  6:00 PM  ...     0      0         2\n",
              "3    4  2020-02-02  6:00 PM  ...     0      0         3\n",
              "4    5  2020-02-03  6:00 PM  ...     0      0         3\n",
              "\n",
              "[5 rows x 9 columns]"
            ]
          },
          "metadata": {},
          "execution_count": 34
        }
      ]
    },
    {
      "cell_type": "code",
      "metadata": {
        "colab": {
          "base_uri": "https://localhost:8080/"
        },
        "id": "sUvWhjkE7oEj",
        "outputId": "84de7029-3e5d-40b8-fcf0-5ba80425dfc6"
      },
      "source": [
        "covid19_india.min()"
      ],
      "execution_count": null,
      "outputs": [
        {
          "output_type": "execute_result",
          "data": {
            "text/plain": [
              "Sno                                                   1\n",
              "Date                                         2020-01-30\n",
              "Time                                           10:00 AM\n",
              "State/UnionTerritory        Andaman and Nicobar Islands\n",
              "ConfirmedIndianNational                               -\n",
              "ConfirmedForeignNational                              -\n",
              "Cured                                                 0\n",
              "Deaths                                                0\n",
              "Confirmed                                             0\n",
              "dtype: object"
            ]
          },
          "metadata": {},
          "execution_count": 35
        }
      ]
    },
    {
      "cell_type": "code",
      "metadata": {
        "colab": {
          "base_uri": "https://localhost:8080/"
        },
        "id": "zy99Msul7qML",
        "outputId": "dfa5829b-8285-48d2-d1f6-9f667b322469"
      },
      "source": [
        "covid19_india.max()"
      ],
      "execution_count": null,
      "outputs": [
        {
          "output_type": "execute_result",
          "data": {
            "text/plain": [
              "Sno                               18110\n",
              "Date                         2021-08-11\n",
              "Time                            9:30 PM\n",
              "State/UnionTerritory        West Bengal\n",
              "ConfirmedIndianNational               9\n",
              "ConfirmedForeignNational              9\n",
              "Cured                           6159676\n",
              "Deaths                           134201\n",
              "Confirmed                       6363442\n",
              "dtype: object"
            ]
          },
          "metadata": {},
          "execution_count": 36
        }
      ]
    },
    {
      "cell_type": "code",
      "metadata": {
        "id": "pQ2yQuHF9PNL"
      },
      "source": [
        "df = covid19_india.groupby([\"Date\"])[\"State/UnionTerritory\"].count()"
      ],
      "execution_count": null,
      "outputs": []
    },
    {
      "cell_type": "code",
      "metadata": {
        "colab": {
          "base_uri": "https://localhost:8080/",
          "height": 623
        },
        "id": "xjA5DpJu97qc",
        "outputId": "37eb356f-10ea-4aa4-f034-bd4f099cde7e"
      },
      "source": [
        "df.plot(figsize=(10,10))"
      ],
      "execution_count": null,
      "outputs": [
        {
          "output_type": "execute_result",
          "data": {
            "text/plain": [
              "<matplotlib.axes._subplots.AxesSubplot at 0x7f2ee666fb90>"
            ]
          },
          "metadata": {},
          "execution_count": 38
        },
        {
          "output_type": "display_data",
          "data": {
            "image/png": "[encoded data removed]",
            "text/plain": [
              "<Figure size 720x720 with 1 Axes>"
            ]
          },
          "metadata": {
            "needs_background": "light"
          }
        }
      ]
    },
    {
      "cell_type": "markdown",
      "metadata": {
        "id": "4QPif2Du_ID6"
      },
      "source": [
        "Видно, что с течением времени все больше и больше регионов обновляли данные"
      ]
    },
    {
      "cell_type": "code",
      "metadata": {
        "id": "DVoxIcxq9rb6"
      },
      "source": [
        "df = covid19_india.groupby([\"Date\"])[\"Time\"].agg(pd.Series.mode)"
      ],
      "execution_count": null,
      "outputs": []
    },
    {
      "cell_type": "code",
      "metadata": {
        "colab": {
          "base_uri": "https://localhost:8080/"
        },
        "id": "vYLbBeVhDc-Y",
        "outputId": "32d075d6-ddfa-4175-9b0e-6e47934170be"
      },
      "source": [
        "df"
      ],
      "execution_count": null,
      "outputs": [
        {
          "output_type": "execute_result",
          "data": {
            "text/plain": [
              "Date\n",
              "2020-01-30    6:00 PM\n",
              "2020-01-31    6:00 PM\n",
              "2020-02-01    6:00 PM\n",
              "2020-02-02    6:00 PM\n",
              "2020-02-03    6:00 PM\n",
              "               ...   \n",
              "2021-08-07    8:00 AM\n",
              "2021-08-08    8:00 AM\n",
              "2021-08-09    8:00 AM\n",
              "2021-08-10    8:00 AM\n",
              "2021-08-11    8:00 AM\n",
              "Name: Time, Length: 560, dtype: object"
            ]
          },
          "metadata": {},
          "execution_count": 40
        }
      ]
    },
    {
      "cell_type": "code",
      "metadata": {
        "colab": {
          "base_uri": "https://localhost:8080/",
          "height": 609
        },
        "id": "A9pcNb9z_u3x",
        "outputId": "b9f473a3-7304-4ffe-aa61-780556637b98"
      },
      "source": [
        "from matplotlib import pyplot as plt\n",
        "import numpy as np\n",
        "\n",
        "times = np.array(['8:00 AM', '10:00 AM', '5:00 PM', '6:00 PM', '7:30 PM', '8:30 PM','9:30 PM'])\n",
        "\n",
        "x = np.array(df.index)\n",
        "\n",
        "y = [np.where(times == value)[0][0] for value in df.values]\n",
        "\n",
        "plt.figure(figsize=(20,10))\n",
        "plt.xticks(ticks=list(range(0, len(x), 40)), labels=x[::40])\n",
        "plt.yticks(ticks=list(range(0, len(times)+ 1)), labels=times)\n",
        "\n",
        "plt.plot(x, y, 'r')"
      ],
      "execution_count": null,
      "outputs": [
        {
          "output_type": "execute_result",
          "data": {
            "text/plain": [
              "[<matplotlib.lines.Line2D at 0x7f2ef76633d0>]"
            ]
          },
          "metadata": {},
          "execution_count": 44
        },
        {
          "output_type": "display_data",
          "data": {
            "image/png": "[encoded data removed]",
            "text/plain": [
              "<Figure size 1440x720 with 1 Axes>"
            ]
          },
          "metadata": {
            "needs_background": "light"
          }
        }
      ]
    },
    {
      "cell_type": "markdown",
      "metadata": {
        "id": "WB_U1oqUGAgC"
      },
      "source": [
        "Видно, что спустя некоторый хаотичный период, данные стали обновлять в 8 утра"
      ]
    },
    {
      "cell_type": "markdown",
      "metadata": {
        "id": "ToZ4zJBKZwDz"
      },
      "source": [
        "# Задание 3"
      ]
    },
    {
      "cell_type": "markdown",
      "metadata": {
        "id": "A-K4btL0ZwD1"
      },
      "source": [
        "По таблицам `covid_19_india`, `covid_vaccine_statewise` определите, есть ли взаимосвязь между типом вакцины, количеством умерших, количеством вакцинировавшихся и регионом Индии. Рассмотрите зависимости факторов как попарно, так и в совокупности.\n",
        "\n",
        "**Опционально:** визуализируйте результат."
      ]
    },
    {
      "cell_type": "code",
      "metadata": {
        "id": "qnOaKIV47Xn7"
      },
      "source": [
        "import numpy as np"
      ],
      "execution_count": null,
      "outputs": []
    },
    {
      "cell_type": "code",
      "metadata": {
        "id": "-MAQG3bT-J4w"
      },
      "source": [
        "def change_gormat(s):\n",
        "  split = s.split('/')\n",
        "  return split[2] + '-' + split[1] + '-' + split[0]"
      ],
      "execution_count": null,
      "outputs": []
    },
    {
      "cell_type": "code",
      "metadata": {
        "id": "NvKKL8jX5j0z"
      },
      "source": [
        "cvs = deepcopy(cp_cvs)\n",
        "cvs[\"Updated On\"] = cvs[\"Updated On\"].apply(lambda x: change_gormat(x))"
      ],
      "execution_count": null,
      "outputs": []
    },
    {
      "cell_type": "code",
      "metadata": {
        "colab": {
          "base_uri": "https://localhost:8080/",
          "height": 343
        },
        "id": "LxXwLXO_92Dv",
        "outputId": "87bc9a4e-4bdc-4d6c-c962-e38ae1efa5d6"
      },
      "source": [
        "cvs.head()"
      ],
      "execution_count": null,
      "outputs": [
        {
          "output_type": "execute_result",
          "data": {
            "text/html": [
              "<div>\n",
              "<style scoped>\n",
              "    .dataframe tbody tr th:only-of-type {\n",
              "        vertical-align: middle;\n",
              "    }\n",
              "\n",
              "    .dataframe tbody tr th {\n",
              "        vertical-align: top;\n",
              "    }\n",
              "\n",
              "    .dataframe thead th {\n",
              "        text-align: right;\n",
              "    }\n",
              "</style>\n",
              "<table border=\"1\" class=\"dataframe\">\n",
              "  <thead>\n",
              "    <tr style=\"text-align: right;\">\n",
              "      <th></th>\n",
              "      <th>Updated On</th>\n",
              "      <th>State</th>\n",
              "      <th>Total Doses Administered</th>\n",
              "      <th>Sessions</th>\n",
              "      <th>Sites</th>\n",
              "      <th>First Dose Administered</th>\n",
              "      <th>Second Dose Administered</th>\n",
              "      <th>Male (Doses Administered)</th>\n",
              "      <th>Female (Doses Administered)</th>\n",
              "      <th>Transgender (Doses Administered)</th>\n",
              "      <th>Covaxin (Doses Administered)</th>\n",
              "      <th>CoviShield (Doses Administered)</th>\n",
              "      <th>AEFI</th>\n",
              "      <th>Total Individuals Vaccinated</th>\n",
              "    </tr>\n",
              "  </thead>\n",
              "  <tbody>\n",
              "    <tr>\n",
              "      <th>0</th>\n",
              "      <td>2021-01-16</td>\n",
              "      <td>India</td>\n",
              "      <td>48276.0</td>\n",
              "      <td>3455.0</td>\n",
              "      <td>2957.0</td>\n",
              "      <td>48276.0</td>\n",
              "      <td>0.0</td>\n",
              "      <td>0.000000e+00</td>\n",
              "      <td>0.000000e+00</td>\n",
              "      <td>0.000</td>\n",
              "      <td>579.0</td>\n",
              "      <td>47697.0</td>\n",
              "      <td>0.000000</td>\n",
              "      <td>48276.0</td>\n",
              "    </tr>\n",
              "    <tr>\n",
              "      <th>1</th>\n",
              "      <td>2021-01-17</td>\n",
              "      <td>India</td>\n",
              "      <td>58604.0</td>\n",
              "      <td>8532.0</td>\n",
              "      <td>4954.0</td>\n",
              "      <td>58604.0</td>\n",
              "      <td>0.0</td>\n",
              "      <td>1.043730e+06</td>\n",
              "      <td>8.922135e+05</td>\n",
              "      <td>321.975</td>\n",
              "      <td>635.0</td>\n",
              "      <td>57969.0</td>\n",
              "      <td>243.745763</td>\n",
              "      <td>58604.0</td>\n",
              "    </tr>\n",
              "    <tr>\n",
              "      <th>2</th>\n",
              "      <td>2021-01-18</td>\n",
              "      <td>India</td>\n",
              "      <td>99449.0</td>\n",
              "      <td>13611.0</td>\n",
              "      <td>6583.0</td>\n",
              "      <td>99449.0</td>\n",
              "      <td>0.0</td>\n",
              "      <td>2.087460e+06</td>\n",
              "      <td>1.784427e+06</td>\n",
              "      <td>643.950</td>\n",
              "      <td>1299.0</td>\n",
              "      <td>98150.0</td>\n",
              "      <td>487.491525</td>\n",
              "      <td>99449.0</td>\n",
              "    </tr>\n",
              "    <tr>\n",
              "      <th>3</th>\n",
              "      <td>2021-01-19</td>\n",
              "      <td>India</td>\n",
              "      <td>195525.0</td>\n",
              "      <td>17855.0</td>\n",
              "      <td>7951.0</td>\n",
              "      <td>195525.0</td>\n",
              "      <td>0.0</td>\n",
              "      <td>3.131191e+06</td>\n",
              "      <td>2.676641e+06</td>\n",
              "      <td>965.925</td>\n",
              "      <td>3017.0</td>\n",
              "      <td>192508.0</td>\n",
              "      <td>731.237288</td>\n",
              "      <td>195525.0</td>\n",
              "    </tr>\n",
              "    <tr>\n",
              "      <th>4</th>\n",
              "      <td>2021-01-20</td>\n",
              "      <td>India</td>\n",
              "      <td>251280.0</td>\n",
              "      <td>25472.0</td>\n",
              "      <td>10504.0</td>\n",
              "      <td>251280.0</td>\n",
              "      <td>0.0</td>\n",
              "      <td>4.174921e+06</td>\n",
              "      <td>3.568854e+06</td>\n",
              "      <td>1287.900</td>\n",
              "      <td>3946.0</td>\n",
              "      <td>247334.0</td>\n",
              "      <td>974.983051</td>\n",
              "      <td>251280.0</td>\n",
              "    </tr>\n",
              "  </tbody>\n",
              "</table>\n",
              "</div>"
            ],
            "text/plain": [
              "   Updated On  State  ...        AEFI  Total Individuals Vaccinated\n",
              "0  2021-01-16  India  ...    0.000000                       48276.0\n",
              "1  2021-01-17  India  ...  243.745763                       58604.0\n",
              "2  2021-01-18  India  ...  487.491525                       99449.0\n",
              "3  2021-01-19  India  ...  731.237288                      195525.0\n",
              "4  2021-01-20  India  ...  974.983051                      251280.0\n",
              "\n",
              "[5 rows x 14 columns]"
            ]
          },
          "metadata": {},
          "execution_count": 97
        }
      ]
    },
    {
      "cell_type": "code",
      "metadata": {
        "id": "63Sf-GgjZwD2"
      },
      "source": [
        "covid19_india = pd.read_csv('covid19/covid_19_india.csv')"
      ],
      "execution_count": null,
      "outputs": []
    },
    {
      "cell_type": "code",
      "metadata": {
        "id": "RNTkbShF5Vh1"
      },
      "source": [
        "# Найдём даты по которым мы будем строить графики\n",
        "from collections import Counter\n",
        "\n",
        "intersected_dates = np.intersect1d(covid19_india['Date'].unique(), cvs[\"Updated On\"].unique())\n",
        "intersected_states = np.intersect1d(covid19_india['State/UnionTerritory'].unique(), cvs['State'].unique())"
      ],
      "execution_count": null,
      "outputs": []
    },
    {
      "cell_type": "code",
      "metadata": {
        "id": "d_9aPTsj_XY8"
      },
      "source": [
        "zeros = np.zeros(len(intersectedStates))\n",
        "death_by_date = []\n",
        "vac_by_date = []\n",
        "covaxin_by_date = []\n",
        "covishield_by_date = []\n",
        "death_by_state = dict(zip(intersectedStates, zeros))\n",
        "vac_by_state = dict(zip(intersectedStates, zeros))\n",
        "covaxin_by_state = dict(zip(intersectedStates, zeros))\n",
        "covishield_by_state = dict(zip(intersectedStates, zeros))\n",
        "for state in intersected_states:\n",
        "  cvs_value = cvs.loc[cvs['State'] == state]\n",
        "  vac_by_state[state] = max(cvs_value['Total Doses Administered'].values)\n",
        "  covaxin_by_state[state] = max(cvs_value[' Covaxin (Doses Administered)'].values)\n",
        "  covishield_by_state[state] = max(cvs_value['CoviShield (Doses Administered)'].values)"
      ],
      "execution_count": null,
      "outputs": []
    },
    {
      "cell_type": "code",
      "metadata": {
        "id": "qC43Y73lAZT3"
      },
      "source": [
        "for date in intersected_dates:\n",
        "  death = 0\n",
        "  vac = 0\n",
        "  vac_covaxin = 0\n",
        "  vac_covishield = 0\n",
        "  for state in intersected_states:\n",
        "    covid_df_value = covid19_india.loc[(covid19_india['Date'] == date) & (covid19_india['State/UnionTerritory'] == state)]\n",
        "    death_value = covid_df_value['Deaths']\n",
        "    if not death_value.empty:\n",
        "      death += death_value.values[0]\n",
        "      death_by_state[state] += death_value.values[0]\n",
        "\n",
        "    cvs_value = cvs.loc[(cvs['Updated On'] == date) & (cvs['State'] == state)]\n",
        "    \n",
        "    if not cvs_value['Total Doses Administered'].empty:\n",
        "      vac += cvs_value['Total Doses Administered'].values[0]\n",
        "    if not cvs_value[' Covaxin (Doses Administered)'].empty:\n",
        "      vac_covaxin += cvs_value[' Covaxin (Doses Administered)'].values[0]\n",
        "\n",
        "    if not cvs_value['CoviShield (Doses Administered)'].empty:\n",
        "      vac_covishield += cvs_value['CoviShield (Doses Administered)'].values[0]\n",
        "\n",
        "  death_by_date.append(death)\n",
        "  vac_by_date.append(vac)\n",
        "  covaxin_by_date.append(vac_covaxin)\n",
        "  covishield_by_date.append(vac_covishield)"
      ],
      "execution_count": null,
      "outputs": []
    },
    {
      "cell_type": "code",
      "metadata": {
        "colab": {
          "base_uri": "https://localhost:8080/",
          "height": 1000
        },
        "id": "vQuQKUNgECWG",
        "outputId": "7c3c11b1-9c12-45b6-bba6-661e1c607848"
      },
      "source": [
        "import matplotlib.pyplot as plt\n",
        "\n",
        "x = np.zeros(206)\n",
        "plt.figure(figsize=(20, 15))\n",
        "plt.xticks(ticks=list(range(0, len(intersected_dates), 40)), labels=intersected_dates[::40])\n",
        "plt.plot(x, color='black')\n",
        "plt.plot(intersected_dates, vac_by_date, color='green')\n",
        "plt.plot(intersected_dates, covaxin_by_date, color='blue')\n",
        "plt.plot(intersected_dates, covishield_by_date, color='yellow')\n",
        "\n",
        "plt.show()\n",
        "\n",
        "x = np.zeros(206)\n",
        "plt.figure(figsize=(20, 15))\n",
        "plt.xticks(ticks=list(range(0, len(intersected_dates), 40)), labels=intersected_dates[::40])\n",
        "plt.plot(x, color='black')\n",
        "plt.plot(intersected_dates, death_by_date, color='red')\n",
        "plt.show()"
      ],
      "execution_count": null,
      "outputs": [
        {
          "output_type": "display_data",
          "data": {
            "image/png": "[encoded data removed]",
            "text/plain": [
              "<Figure size 1440x1080 with 1 Axes>"
            ]
          },
          "metadata": {
            "needs_background": "light"
          }
        },
        {
          "output_type": "display_data",
          "data": {
            "image/png": "[encoded data removed]",
            "text/plain": [
              "<Figure size 1440x1080 with 1 Axes>"
            ]
          },
          "metadata": {
            "needs_background": "light"
          }
        }
      ]
    },
    {
      "cell_type": "markdown",
      "metadata": {
        "id": "JpouD9v-F7xr"
      },
      "source": [
        "Видно что с ускорением темпов вакцинации рост количества смертей замедлялся"
      ]
    },
    {
      "cell_type": "code",
      "metadata": {
        "colab": {
          "base_uri": "https://localhost:8080/",
          "height": 893
        },
        "id": "hgzoc1QPGDGt",
        "outputId": "28f06944-458a-4d67-e1be-3da623895cca"
      },
      "source": [
        "index = np.arange(len(intersected_states))\n",
        "\n",
        "plt.figure(figsize=(20, 15))\n",
        "plt.title('Total death by state', fontsize=14)\n",
        "plt.barh(index, death_by_state.values(), color='red')\n",
        "plt.yticks(index, intersected_states)\n",
        "plt.show()"
      ],
      "execution_count": null,
      "outputs": [
        {
          "output_type": "display_data",
          "data": {
            "image/png": "[encoded data removed]",
            "text/plain": [
              "<Figure size 1440x1080 with 1 Axes>"
            ]
          },
          "metadata": {
            "needs_background": "light"
          }
        }
      ]
    },
    {
      "cell_type": "code",
      "metadata": {
        "colab": {
          "base_uri": "https://localhost:8080/",
          "height": 897
        },
        "id": "jAkBwzKuGTne",
        "outputId": "476711d5-afaf-416f-a9d1-024cfa0d4ffd"
      },
      "source": [
        "width = 0.4\n",
        "plt.figure(figsize=(20, 15))\n",
        "plt.title('Сравнение вакцинирования Covaxin (синий) и CoviShield (оранжевый)', fontsize=20)\n",
        "plt.barh(index, covaxin_by_state.values(), width, color='blue')\n",
        "plt.barh(index+width, covishield_by_state.values(), width, color='yellow')\n",
        "plt.yticks(index+width/2, intersected_states)\n",
        "\n",
        "plt.show()"
      ],
      "execution_count": null,
      "outputs": [
        {
          "output_type": "display_data",
          "data": {
            "image/png": "[encoded data removed]",
            "text/plain": [
              "<Figure size 1440x1080 with 1 Axes>"
            ]
          },
          "metadata": {
            "needs_background": "light"
          }
        }
      ]
    },
    {
      "cell_type": "markdown",
      "metadata": {
        "id": "OhFiJs-8H6tz"
      },
      "source": [
        "Много смертей в густонаселенных штатах. Ковишилдом вакцинировано больше людей чем Коваксином"
      ]
    },
    {
      "cell_type": "markdown",
      "metadata": {
        "id": "mPu0JAk4ZwNg"
      },
      "source": [
        "# Задание 4"
      ]
    },
    {
      "cell_type": "markdown",
      "metadata": {
        "id": "ZwY36xucZwNi"
      },
      "source": [
        "По всем трем таблицам определите, как с каждым месяцем от начала наблюдений менялось количество умерших, вакцинированных и тех, кто имеет положительный тест. Наблюдается ли этих в данных закономерность?\n",
        "\n",
        "**Опционально:** визуализируйте результат."
      ]
    },
    {
      "cell_type": "markdown",
      "metadata": {
        "id": "TgTkwl6_IZAy"
      },
      "source": [
        "Графики количества умерших и вакицинированных были построены в задании 3. Продублирую вывод и тут. Рост графика смертей к концу замедлился (значит новых смертей все меньше и меньше). Рост общего количества вакцинированного населения продолжал расти (темпы вакцинации примерно стабильные)"
      ]
    },
    {
      "cell_type": "code",
      "metadata": {
        "id": "HpWCJdjnQr3e"
      },
      "source": [
        "def calc_pos(x):\n",
        "  if (not x[\"Positive\"]):\n",
        "    print(float(x[\"TotalSamples\"]) - float(x[\"Negative\"]))\n",
        "    return float(x[\"TotalSamples\"]) - float(x[\"Negative\"])\n",
        "  return x[\"Positive\"]"
      ],
      "execution_count": null,
      "outputs": []
    },
    {
      "cell_type": "code",
      "metadata": {
        "id": "mxLmtMHmJD4m"
      },
      "source": [
        "std = pd.read_csv(\"covid19/StatewiseTestingDetails.csv\")\n",
        "std = std.loc[(std[\"Positive\"].notna()) | (std[\"Negative\"].notna())]\n",
        "std[\"Negative\"] = pd.to_numeric(std['Negative'], errors='coerce')\n",
        "std.loc[std['Positive'].isna(), 'Positive'] = std[\"TotalSamples\"] - std[\"Negative\"]"
      ],
      "execution_count": null,
      "outputs": []
    },
    {
      "cell_type": "code",
      "metadata": {
        "colab": {
          "base_uri": "https://localhost:8080/",
          "height": 359
        },
        "id": "Xfwk2trRJKZJ",
        "outputId": "9e98faa3-7c9a-43a8-d68b-7f25f078222f"
      },
      "source": [
        "std.head(10)"
      ],
      "execution_count": null,
      "outputs": [
        {
          "output_type": "execute_result",
          "data": {
            "text/html": [
              "<div>\n",
              "<style scoped>\n",
              "    .dataframe tbody tr th:only-of-type {\n",
              "        vertical-align: middle;\n",
              "    }\n",
              "\n",
              "    .dataframe tbody tr th {\n",
              "        vertical-align: top;\n",
              "    }\n",
              "\n",
              "    .dataframe thead th {\n",
              "        text-align: right;\n",
              "    }\n",
              "</style>\n",
              "<table border=\"1\" class=\"dataframe\">\n",
              "  <thead>\n",
              "    <tr style=\"text-align: right;\">\n",
              "      <th></th>\n",
              "      <th>Date</th>\n",
              "      <th>State</th>\n",
              "      <th>TotalSamples</th>\n",
              "      <th>Negative</th>\n",
              "      <th>Positive</th>\n",
              "    </tr>\n",
              "  </thead>\n",
              "  <tbody>\n",
              "    <tr>\n",
              "      <th>0</th>\n",
              "      <td>2020-04-17</td>\n",
              "      <td>Andaman and Nicobar Islands</td>\n",
              "      <td>1403.0</td>\n",
              "      <td>1210.0</td>\n",
              "      <td>12.0</td>\n",
              "    </tr>\n",
              "    <tr>\n",
              "      <th>1</th>\n",
              "      <td>2020-04-24</td>\n",
              "      <td>Andaman and Nicobar Islands</td>\n",
              "      <td>2679.0</td>\n",
              "      <td>NaN</td>\n",
              "      <td>27.0</td>\n",
              "    </tr>\n",
              "    <tr>\n",
              "      <th>2</th>\n",
              "      <td>2020-04-27</td>\n",
              "      <td>Andaman and Nicobar Islands</td>\n",
              "      <td>2848.0</td>\n",
              "      <td>NaN</td>\n",
              "      <td>33.0</td>\n",
              "    </tr>\n",
              "    <tr>\n",
              "      <th>3</th>\n",
              "      <td>2020-05-01</td>\n",
              "      <td>Andaman and Nicobar Islands</td>\n",
              "      <td>3754.0</td>\n",
              "      <td>NaN</td>\n",
              "      <td>33.0</td>\n",
              "    </tr>\n",
              "    <tr>\n",
              "      <th>4</th>\n",
              "      <td>2020-05-16</td>\n",
              "      <td>Andaman and Nicobar Islands</td>\n",
              "      <td>6677.0</td>\n",
              "      <td>NaN</td>\n",
              "      <td>33.0</td>\n",
              "    </tr>\n",
              "    <tr>\n",
              "      <th>5</th>\n",
              "      <td>2020-05-19</td>\n",
              "      <td>Andaman and Nicobar Islands</td>\n",
              "      <td>6965.0</td>\n",
              "      <td>NaN</td>\n",
              "      <td>33.0</td>\n",
              "    </tr>\n",
              "    <tr>\n",
              "      <th>6</th>\n",
              "      <td>2020-05-20</td>\n",
              "      <td>Andaman and Nicobar Islands</td>\n",
              "      <td>7082.0</td>\n",
              "      <td>NaN</td>\n",
              "      <td>33.0</td>\n",
              "    </tr>\n",
              "    <tr>\n",
              "      <th>7</th>\n",
              "      <td>2020-05-21</td>\n",
              "      <td>Andaman and Nicobar Islands</td>\n",
              "      <td>7167.0</td>\n",
              "      <td>NaN</td>\n",
              "      <td>33.0</td>\n",
              "    </tr>\n",
              "    <tr>\n",
              "      <th>8</th>\n",
              "      <td>2020-05-22</td>\n",
              "      <td>Andaman and Nicobar Islands</td>\n",
              "      <td>7263.0</td>\n",
              "      <td>NaN</td>\n",
              "      <td>33.0</td>\n",
              "    </tr>\n",
              "    <tr>\n",
              "      <th>9</th>\n",
              "      <td>2020-05-23</td>\n",
              "      <td>Andaman and Nicobar Islands</td>\n",
              "      <td>7327.0</td>\n",
              "      <td>NaN</td>\n",
              "      <td>33.0</td>\n",
              "    </tr>\n",
              "  </tbody>\n",
              "</table>\n",
              "</div>"
            ],
            "text/plain": [
              "         Date                        State  TotalSamples  Negative  Positive\n",
              "0  2020-04-17  Andaman and Nicobar Islands        1403.0    1210.0      12.0\n",
              "1  2020-04-24  Andaman and Nicobar Islands        2679.0       NaN      27.0\n",
              "2  2020-04-27  Andaman and Nicobar Islands        2848.0       NaN      33.0\n",
              "3  2020-05-01  Andaman and Nicobar Islands        3754.0       NaN      33.0\n",
              "4  2020-05-16  Andaman and Nicobar Islands        6677.0       NaN      33.0\n",
              "5  2020-05-19  Andaman and Nicobar Islands        6965.0       NaN      33.0\n",
              "6  2020-05-20  Andaman and Nicobar Islands        7082.0       NaN      33.0\n",
              "7  2020-05-21  Andaman and Nicobar Islands        7167.0       NaN      33.0\n",
              "8  2020-05-22  Andaman and Nicobar Islands        7263.0       NaN      33.0\n",
              "9  2020-05-23  Andaman and Nicobar Islands        7327.0       NaN      33.0"
            ]
          },
          "metadata": {},
          "execution_count": 238
        }
      ]
    },
    {
      "cell_type": "code",
      "metadata": {
        "colab": {
          "base_uri": "https://localhost:8080/",
          "height": 49
        },
        "id": "QQy1xL8nPYgA",
        "outputId": "1739e552-d340-49a1-a1d3-6659578b3d3f"
      },
      "source": [
        "std[std[\"Positive\"].isna()]"
      ],
      "execution_count": null,
      "outputs": [
        {
          "output_type": "execute_result",
          "data": {
            "text/html": [
              "<div>\n",
              "<style scoped>\n",
              "    .dataframe tbody tr th:only-of-type {\n",
              "        vertical-align: middle;\n",
              "    }\n",
              "\n",
              "    .dataframe tbody tr th {\n",
              "        vertical-align: top;\n",
              "    }\n",
              "\n",
              "    .dataframe thead th {\n",
              "        text-align: right;\n",
              "    }\n",
              "</style>\n",
              "<table border=\"1\" class=\"dataframe\">\n",
              "  <thead>\n",
              "    <tr style=\"text-align: right;\">\n",
              "      <th></th>\n",
              "      <th>Date</th>\n",
              "      <th>State</th>\n",
              "      <th>TotalSamples</th>\n",
              "      <th>Negative</th>\n",
              "      <th>Positive</th>\n",
              "    </tr>\n",
              "  </thead>\n",
              "  <tbody>\n",
              "  </tbody>\n",
              "</table>\n",
              "</div>"
            ],
            "text/plain": [
              "Empty DataFrame\n",
              "Columns: [Date, State, TotalSamples, Negative, Positive]\n",
              "Index: []"
            ]
          },
          "metadata": {},
          "execution_count": 239
        }
      ]
    },
    {
      "cell_type": "code",
      "metadata": {
        "id": "lZgOIzHwWZ9C"
      },
      "source": [
        "#уберем выбросы\n",
        "std = std.loc[(std[\"Positive\"] > 0) & (std[\"Positive\"] < 20000000)]"
      ],
      "execution_count": null,
      "outputs": []
    },
    {
      "cell_type": "code",
      "metadata": {
        "id": "CSL8UMiOZwNi"
      },
      "source": [
        "testsByDate = std.groupby(\"Date\")[\"Positive\"].sum()"
      ],
      "execution_count": null,
      "outputs": []
    },
    {
      "cell_type": "code",
      "metadata": {
        "id": "2sH2fBU7LsSq"
      },
      "source": [
        "dates = np.array(testsByDate.index)"
      ],
      "execution_count": null,
      "outputs": []
    },
    {
      "cell_type": "code",
      "metadata": {
        "colab": {
          "base_uri": "https://localhost:8080/",
          "height": 885
        },
        "id": "fYZQrU7sIy3s",
        "outputId": "9ef04307-e3b2-4689-9ee0-9280f3a1c192"
      },
      "source": [
        "plt.figure(figsize=(20, 15))\n",
        "plt.xticks(ticks=list(range(0, len(dates), 40)), labels=dates[::40])\n",
        "plt.title('Общий график положительных тестов', fontsize=20)\n",
        "plt.plot(testsByDate.values)\n",
        "plt.show()"
      ],
      "execution_count": null,
      "outputs": [
        {
          "output_type": "display_data",
          "data": {
            "image/png": "[encoded data removed]",
            "text/plain": [
              "<Figure size 1440x1080 with 1 Axes>"
            ]
          },
          "metadata": {
            "needs_background": "light"
          }
        }
      ]
    },
    {
      "cell_type": "markdown",
      "metadata": {
        "id": "EsErKg1sXMGi"
      },
      "source": [
        "На графике видно, что количество положительных тестов в конце наблюдаемого периода почти не увеличивается. Вероятно, это связано с большим количеством вакцинированного населения"
      ]
    },
    {
      "cell_type": "markdown",
      "metadata": {
        "id": "KE_1vWpDZwgy"
      },
      "source": [
        "# Задание 5"
      ]
    },
    {
      "cell_type": "markdown",
      "metadata": {
        "id": "ahPQwr0nZwgz"
      },
      "source": [
        "Сформулируйте и проверьте одну гипотезу по данным самостоятельно."
      ]
    },
    {
      "cell_type": "markdown",
      "metadata": {
        "id": "SM7g6ChMotjb"
      },
      "source": [
        "Возьмем 2 самых крупных штата Индии по населению. Попытаться объяснить почему в Махараштра смертей больше чем Уттар-Прадеш, при том что в штате Махараштра население меньше почти на 80млн"
      ]
    },
    {
      "cell_type": "code",
      "metadata": {
        "id": "fjDdP-NqqF4V"
      },
      "source": [
        "import pandas as pd"
      ],
      "execution_count": null,
      "outputs": []
    },
    {
      "cell_type": "code",
      "metadata": {
        "id": "XjHHF-O3Zwg0"
      },
      "source": [
        "cvs = pd.read_csv('covid19/covid_vaccine_statewise.csv')\n",
        "covid_19_india = pd.read_csv('covid19/covid_19_india.csv')"
      ],
      "execution_count": null,
      "outputs": []
    },
    {
      "cell_type": "code",
      "metadata": {
        "id": "W0Q-4u0jqLa-"
      },
      "source": [
        "cvs = cvs.loc[(cvs[\"State\"] == \"Uttar Pradesh\") | (cvs[\"State\"] == \"Maharashtra\")]"
      ],
      "execution_count": null,
      "outputs": []
    },
    {
      "cell_type": "code",
      "metadata": {
        "colab": {
          "base_uri": "https://localhost:8080/",
          "height": 258
        },
        "id": "xza_F85vrcFv",
        "outputId": "24492c4a-b9f6-4755-e113-8ae0610ae425"
      },
      "source": [
        "cvs.head()"
      ],
      "execution_count": null,
      "outputs": [
        {
          "output_type": "execute_result",
          "data": {
            "text/html": [
              "<div>\n",
              "<style scoped>\n",
              "    .dataframe tbody tr th:only-of-type {\n",
              "        vertical-align: middle;\n",
              "    }\n",
              "\n",
              "    .dataframe tbody tr th {\n",
              "        vertical-align: top;\n",
              "    }\n",
              "\n",
              "    .dataframe thead th {\n",
              "        text-align: right;\n",
              "    }\n",
              "</style>\n",
              "<table border=\"1\" class=\"dataframe\">\n",
              "  <thead>\n",
              "    <tr style=\"text-align: right;\">\n",
              "      <th></th>\n",
              "      <th>Updated On</th>\n",
              "      <th>State</th>\n",
              "      <th>Total Doses Administered</th>\n",
              "      <th>Sessions</th>\n",
              "      <th>Sites</th>\n",
              "      <th>First Dose Administered</th>\n",
              "      <th>Second Dose Administered</th>\n",
              "      <th>Male (Doses Administered)</th>\n",
              "      <th>Female (Doses Administered)</th>\n",
              "      <th>Transgender (Doses Administered)</th>\n",
              "      <th>Covaxin (Doses Administered)</th>\n",
              "      <th>CoviShield (Doses Administered)</th>\n",
              "      <th>Sputnik V (Doses Administered)</th>\n",
              "      <th>AEFI</th>\n",
              "      <th>18-44 Years (Doses Administered)</th>\n",
              "      <th>45-60 Years (Doses Administered)</th>\n",
              "      <th>60+ Years (Doses Administered)</th>\n",
              "      <th>18-44 Years(Individuals Vaccinated)</th>\n",
              "      <th>45-60 Years(Individuals Vaccinated)</th>\n",
              "      <th>60+ Years(Individuals Vaccinated)</th>\n",
              "      <th>Male(Individuals Vaccinated)</th>\n",
              "      <th>Female(Individuals Vaccinated)</th>\n",
              "      <th>Transgender(Individuals Vaccinated)</th>\n",
              "      <th>Total Individuals Vaccinated</th>\n",
              "    </tr>\n",
              "  </thead>\n",
              "  <tbody>\n",
              "    <tr>\n",
              "      <th>4453</th>\n",
              "      <td>16/01/2021</td>\n",
              "      <td>Maharashtra</td>\n",
              "      <td>5726.0</td>\n",
              "      <td>179.0</td>\n",
              "      <td>174.0</td>\n",
              "      <td>5726.0</td>\n",
              "      <td>0.0</td>\n",
              "      <td>3668.0</td>\n",
              "      <td>2057.0</td>\n",
              "      <td>1.0</td>\n",
              "      <td>85.0</td>\n",
              "      <td>5641.0</td>\n",
              "      <td>NaN</td>\n",
              "      <td>NaN</td>\n",
              "      <td>NaN</td>\n",
              "      <td>NaN</td>\n",
              "      <td>NaN</td>\n",
              "      <td>NaN</td>\n",
              "      <td>NaN</td>\n",
              "      <td>NaN</td>\n",
              "      <td>NaN</td>\n",
              "      <td>NaN</td>\n",
              "      <td>NaN</td>\n",
              "      <td>5726.0</td>\n",
              "    </tr>\n",
              "    <tr>\n",
              "      <th>4454</th>\n",
              "      <td>17/01/2021</td>\n",
              "      <td>Maharashtra</td>\n",
              "      <td>6521.0</td>\n",
              "      <td>269.0</td>\n",
              "      <td>216.0</td>\n",
              "      <td>6521.0</td>\n",
              "      <td>0.0</td>\n",
              "      <td>3953.0</td>\n",
              "      <td>2566.0</td>\n",
              "      <td>2.0</td>\n",
              "      <td>94.0</td>\n",
              "      <td>6427.0</td>\n",
              "      <td>NaN</td>\n",
              "      <td>NaN</td>\n",
              "      <td>NaN</td>\n",
              "      <td>NaN</td>\n",
              "      <td>NaN</td>\n",
              "      <td>NaN</td>\n",
              "      <td>NaN</td>\n",
              "      <td>NaN</td>\n",
              "      <td>NaN</td>\n",
              "      <td>NaN</td>\n",
              "      <td>NaN</td>\n",
              "      <td>6521.0</td>\n",
              "    </tr>\n",
              "    <tr>\n",
              "      <th>4455</th>\n",
              "      <td>18/01/2021</td>\n",
              "      <td>Maharashtra</td>\n",
              "      <td>6151.0</td>\n",
              "      <td>772.0</td>\n",
              "      <td>320.0</td>\n",
              "      <td>6151.0</td>\n",
              "      <td>0.0</td>\n",
              "      <td>3569.0</td>\n",
              "      <td>2581.0</td>\n",
              "      <td>1.0</td>\n",
              "      <td>105.0</td>\n",
              "      <td>6046.0</td>\n",
              "      <td>NaN</td>\n",
              "      <td>NaN</td>\n",
              "      <td>NaN</td>\n",
              "      <td>NaN</td>\n",
              "      <td>NaN</td>\n",
              "      <td>NaN</td>\n",
              "      <td>NaN</td>\n",
              "      <td>NaN</td>\n",
              "      <td>NaN</td>\n",
              "      <td>NaN</td>\n",
              "      <td>NaN</td>\n",
              "      <td>6151.0</td>\n",
              "    </tr>\n",
              "    <tr>\n",
              "      <th>4456</th>\n",
              "      <td>19/01/2021</td>\n",
              "      <td>Maharashtra</td>\n",
              "      <td>13699.0</td>\n",
              "      <td>1196.0</td>\n",
              "      <td>340.0</td>\n",
              "      <td>13699.0</td>\n",
              "      <td>0.0</td>\n",
              "      <td>6328.0</td>\n",
              "      <td>7367.0</td>\n",
              "      <td>4.0</td>\n",
              "      <td>214.0</td>\n",
              "      <td>13485.0</td>\n",
              "      <td>NaN</td>\n",
              "      <td>NaN</td>\n",
              "      <td>NaN</td>\n",
              "      <td>NaN</td>\n",
              "      <td>NaN</td>\n",
              "      <td>NaN</td>\n",
              "      <td>NaN</td>\n",
              "      <td>NaN</td>\n",
              "      <td>NaN</td>\n",
              "      <td>NaN</td>\n",
              "      <td>NaN</td>\n",
              "      <td>13699.0</td>\n",
              "    </tr>\n",
              "    <tr>\n",
              "      <th>4457</th>\n",
              "      <td>20/01/2021</td>\n",
              "      <td>Maharashtra</td>\n",
              "      <td>23880.0</td>\n",
              "      <td>1547.0</td>\n",
              "      <td>347.0</td>\n",
              "      <td>23880.0</td>\n",
              "      <td>0.0</td>\n",
              "      <td>9658.0</td>\n",
              "      <td>14205.0</td>\n",
              "      <td>17.0</td>\n",
              "      <td>439.0</td>\n",
              "      <td>23441.0</td>\n",
              "      <td>NaN</td>\n",
              "      <td>NaN</td>\n",
              "      <td>NaN</td>\n",
              "      <td>NaN</td>\n",
              "      <td>NaN</td>\n",
              "      <td>NaN</td>\n",
              "      <td>NaN</td>\n",
              "      <td>NaN</td>\n",
              "      <td>NaN</td>\n",
              "      <td>NaN</td>\n",
              "      <td>NaN</td>\n",
              "      <td>23880.0</td>\n",
              "    </tr>\n",
              "  </tbody>\n",
              "</table>\n",
              "</div>"
            ],
            "text/plain": [
              "      Updated On  ... Total Individuals Vaccinated\n",
              "4453  16/01/2021  ...                       5726.0\n",
              "4454  17/01/2021  ...                       6521.0\n",
              "4455  18/01/2021  ...                       6151.0\n",
              "4456  19/01/2021  ...                      13699.0\n",
              "4457  20/01/2021  ...                      23880.0\n",
              "\n",
              "[5 rows x 24 columns]"
            ]
          },
          "metadata": {},
          "execution_count": 71
        }
      ]
    },
    {
      "cell_type": "code",
      "metadata": {
        "colab": {
          "base_uri": "https://localhost:8080/"
        },
        "id": "L3a3Z8VAqjR0",
        "outputId": "ba826c2c-5cee-49a5-a69e-816500bac34e"
      },
      "source": [
        "cvs.groupby(\"State\")[\"Total Individuals Vaccinated\"].max()"
      ],
      "execution_count": null,
      "outputs": [
        {
          "output_type": "execute_result",
          "data": {
            "text/plain": [
              "State\n",
              "Maharashtra      24046509.0\n",
              "Uttar Pradesh    24782239.0\n",
              "Name: Total Individuals Vaccinated, dtype: float64"
            ]
          },
          "metadata": {},
          "execution_count": 72
        }
      ]
    },
    {
      "cell_type": "markdown",
      "metadata": {
        "id": "QsufW0b3rvBn"
      },
      "source": [
        "В штате Uttar Pradesh вакцинировано на 700000 больше"
      ]
    },
    {
      "cell_type": "markdown",
      "metadata": {
        "id": "7jZdEisSsEsy"
      },
      "source": [
        "Сравним вид вакцины"
      ]
    },
    {
      "cell_type": "code",
      "metadata": {
        "colab": {
          "base_uri": "https://localhost:8080/",
          "height": 196
        },
        "id": "JZhVUdFJsHUt",
        "outputId": "9ab4c4eb-3a9c-435c-c236-3e81d53fdf4a"
      },
      "source": [
        "cvs.groupby(\"State\")[\" Covaxin (Doses Administered)\", \"CoviShield (Doses Administered)\"].max()"
      ],
      "execution_count": null,
      "outputs": [
        {
          "output_type": "stream",
          "name": "stderr",
          "text": [
            "/usr/local/lib/python3.7/dist-packages/ipykernel_launcher.py:1: FutureWarning: Indexing with multiple keys (implicitly converted to a tuple of keys) will be deprecated, use a list instead.\n",
            "  \"\"\"Entry point for launching an IPython kernel.\n"
          ]
        },
        {
          "output_type": "execute_result",
          "data": {
            "text/html": [
              "<div>\n",
              "<style scoped>\n",
              "    .dataframe tbody tr th:only-of-type {\n",
              "        vertical-align: middle;\n",
              "    }\n",
              "\n",
              "    .dataframe tbody tr th {\n",
              "        vertical-align: top;\n",
              "    }\n",
              "\n",
              "    .dataframe thead th {\n",
              "        text-align: right;\n",
              "    }\n",
              "</style>\n",
              "<table border=\"1\" class=\"dataframe\">\n",
              "  <thead>\n",
              "    <tr style=\"text-align: right;\">\n",
              "      <th></th>\n",
              "      <th>Covaxin (Doses Administered)</th>\n",
              "      <th>CoviShield (Doses Administered)</th>\n",
              "    </tr>\n",
              "    <tr>\n",
              "      <th>State</th>\n",
              "      <th></th>\n",
              "      <th></th>\n",
              "    </tr>\n",
              "  </thead>\n",
              "  <tbody>\n",
              "    <tr>\n",
              "      <th>Maharashtra</th>\n",
              "      <td>6005390.0</td>\n",
              "      <td>41051969.0</td>\n",
              "    </tr>\n",
              "    <tr>\n",
              "      <th>Uttar Pradesh</th>\n",
              "      <td>6171089.0</td>\n",
              "      <td>48258007.0</td>\n",
              "    </tr>\n",
              "  </tbody>\n",
              "</table>\n",
              "</div>"
            ],
            "text/plain": [
              "                Covaxin (Doses Administered)  CoviShield (Doses Administered)\n",
              "State                                                                        \n",
              "Maharashtra                        6005390.0                       41051969.0\n",
              "Uttar Pradesh                      6171089.0                       48258007.0"
            ]
          },
          "metadata": {},
          "execution_count": 73
        }
      ]
    },
    {
      "cell_type": "code",
      "metadata": {
        "colab": {
          "base_uri": "https://localhost:8080/"
        },
        "id": "MuRl3ygutFjg",
        "outputId": "85e32a59-af34-41a2-bb80-c692934c453c"
      },
      "source": [
        "#Данные по населению из википедии\n",
        "\n",
        "uttar_population = 199581477\n",
        "mah_population = 112372972\n",
        "\n",
        "print(f\"Percent of Covaxin vaccinated in Maharashtra {6005390.0 / mah_population * 100}%\")\n",
        "print(f\"Percent of CoviShield vaccinated in Maharashtra {41051969.0 / mah_population * 100}%\")\n",
        "\n",
        "print(f\"Percent of Covaxin vaccinated in Uttar Pradesh\t {6171089.0 / uttar_population * 100}%\")\n",
        "print(f\"Percent of CoviShield vaccinated in Uttar Pradesh\t {48258007.0 / uttar_population * 100}%\")"
      ],
      "execution_count": null,
      "outputs": [
        {
          "output_type": "stream",
          "name": "stdout",
          "text": [
            "Percent of Covaxin vaccinated in Maharashtra 5.344158735963663%\n",
            "Percent of CoviShield vaccinated in Maharashtra 36.53188864667564%\n",
            "Percent of Covaxin vaccinated in Uttar Pradesh\t 3.0920148967531693%\n",
            "Percent of CoviShield vaccinated in Uttar Pradesh\t 24.179602098044402%\n"
          ]
        }
      ]
    },
    {
      "cell_type": "markdown",
      "metadata": {
        "id": "gMkCYcuysvAE"
      },
      "source": [
        "Процент вакцинированного населения в Maharashtra больше"
      ]
    },
    {
      "cell_type": "code",
      "metadata": {
        "colab": {
          "base_uri": "https://localhost:8080/",
          "height": 204
        },
        "id": "Hki0hjeBt64f",
        "outputId": "e0068007-cac4-4f58-a602-7ddf43300ee7"
      },
      "source": [
        "covid_19_india.head()"
      ],
      "execution_count": null,
      "outputs": [
        {
          "output_type": "execute_result",
          "data": {
            "text/html": [
              "<div>\n",
              "<style scoped>\n",
              "    .dataframe tbody tr th:only-of-type {\n",
              "        vertical-align: middle;\n",
              "    }\n",
              "\n",
              "    .dataframe tbody tr th {\n",
              "        vertical-align: top;\n",
              "    }\n",
              "\n",
              "    .dataframe thead th {\n",
              "        text-align: right;\n",
              "    }\n",
              "</style>\n",
              "<table border=\"1\" class=\"dataframe\">\n",
              "  <thead>\n",
              "    <tr style=\"text-align: right;\">\n",
              "      <th></th>\n",
              "      <th>Sno</th>\n",
              "      <th>Date</th>\n",
              "      <th>Time</th>\n",
              "      <th>State/UnionTerritory</th>\n",
              "      <th>ConfirmedIndianNational</th>\n",
              "      <th>ConfirmedForeignNational</th>\n",
              "      <th>Cured</th>\n",
              "      <th>Deaths</th>\n",
              "      <th>Confirmed</th>\n",
              "    </tr>\n",
              "  </thead>\n",
              "  <tbody>\n",
              "    <tr>\n",
              "      <th>0</th>\n",
              "      <td>1</td>\n",
              "      <td>2020-01-30</td>\n",
              "      <td>6:00 PM</td>\n",
              "      <td>Kerala</td>\n",
              "      <td>1</td>\n",
              "      <td>0</td>\n",
              "      <td>0</td>\n",
              "      <td>0</td>\n",
              "      <td>1</td>\n",
              "    </tr>\n",
              "    <tr>\n",
              "      <th>1</th>\n",
              "      <td>2</td>\n",
              "      <td>2020-01-31</td>\n",
              "      <td>6:00 PM</td>\n",
              "      <td>Kerala</td>\n",
              "      <td>1</td>\n",
              "      <td>0</td>\n",
              "      <td>0</td>\n",
              "      <td>0</td>\n",
              "      <td>1</td>\n",
              "    </tr>\n",
              "    <tr>\n",
              "      <th>2</th>\n",
              "      <td>3</td>\n",
              "      <td>2020-02-01</td>\n",
              "      <td>6:00 PM</td>\n",
              "      <td>Kerala</td>\n",
              "      <td>2</td>\n",
              "      <td>0</td>\n",
              "      <td>0</td>\n",
              "      <td>0</td>\n",
              "      <td>2</td>\n",
              "    </tr>\n",
              "    <tr>\n",
              "      <th>3</th>\n",
              "      <td>4</td>\n",
              "      <td>2020-02-02</td>\n",
              "      <td>6:00 PM</td>\n",
              "      <td>Kerala</td>\n",
              "      <td>3</td>\n",
              "      <td>0</td>\n",
              "      <td>0</td>\n",
              "      <td>0</td>\n",
              "      <td>3</td>\n",
              "    </tr>\n",
              "    <tr>\n",
              "      <th>4</th>\n",
              "      <td>5</td>\n",
              "      <td>2020-02-03</td>\n",
              "      <td>6:00 PM</td>\n",
              "      <td>Kerala</td>\n",
              "      <td>3</td>\n",
              "      <td>0</td>\n",
              "      <td>0</td>\n",
              "      <td>0</td>\n",
              "      <td>3</td>\n",
              "    </tr>\n",
              "  </tbody>\n",
              "</table>\n",
              "</div>"
            ],
            "text/plain": [
              "   Sno        Date     Time  ... Cured Deaths Confirmed\n",
              "0    1  2020-01-30  6:00 PM  ...     0      0         1\n",
              "1    2  2020-01-31  6:00 PM  ...     0      0         1\n",
              "2    3  2020-02-01  6:00 PM  ...     0      0         2\n",
              "3    4  2020-02-02  6:00 PM  ...     0      0         3\n",
              "4    5  2020-02-03  6:00 PM  ...     0      0         3\n",
              "\n",
              "[5 rows x 9 columns]"
            ]
          },
          "metadata": {},
          "execution_count": 89
        }
      ]
    },
    {
      "cell_type": "code",
      "metadata": {
        "id": "K299BIb9uDzc"
      },
      "source": [
        "covid_19_india = covid_19_india.loc[(covid_19_india[\"State/UnionTerritory\"] == \"Uttar Pradesh\") | (covid_19_india[\"State/UnionTerritory\"] == \"Maharashtra\")]"
      ],
      "execution_count": null,
      "outputs": []
    },
    {
      "cell_type": "code",
      "metadata": {
        "colab": {
          "base_uri": "https://localhost:8080/",
          "height": 204
        },
        "id": "3t1ArHMiuLUb",
        "outputId": "6e1c7917-b246-491b-90ae-15d549e94891"
      },
      "source": [
        "covid_19_india.head()"
      ],
      "execution_count": null,
      "outputs": [
        {
          "output_type": "execute_result",
          "data": {
            "text/html": [
              "<div>\n",
              "<style scoped>\n",
              "    .dataframe tbody tr th:only-of-type {\n",
              "        vertical-align: middle;\n",
              "    }\n",
              "\n",
              "    .dataframe tbody tr th {\n",
              "        vertical-align: top;\n",
              "    }\n",
              "\n",
              "    .dataframe thead th {\n",
              "        text-align: right;\n",
              "    }\n",
              "</style>\n",
              "<table border=\"1\" class=\"dataframe\">\n",
              "  <thead>\n",
              "    <tr style=\"text-align: right;\">\n",
              "      <th></th>\n",
              "      <th>Sno</th>\n",
              "      <th>Date</th>\n",
              "      <th>Time</th>\n",
              "      <th>State/UnionTerritory</th>\n",
              "      <th>ConfirmedIndianNational</th>\n",
              "      <th>ConfirmedForeignNational</th>\n",
              "      <th>Cured</th>\n",
              "      <th>Deaths</th>\n",
              "      <th>Confirmed</th>\n",
              "    </tr>\n",
              "  </thead>\n",
              "  <tbody>\n",
              "    <tr>\n",
              "      <th>39</th>\n",
              "      <td>40</td>\n",
              "      <td>2020-03-04</td>\n",
              "      <td>6:00 PM</td>\n",
              "      <td>Uttar Pradesh</td>\n",
              "      <td>6</td>\n",
              "      <td>0</td>\n",
              "      <td>0</td>\n",
              "      <td>0</td>\n",
              "      <td>6</td>\n",
              "    </tr>\n",
              "    <tr>\n",
              "      <th>50</th>\n",
              "      <td>51</td>\n",
              "      <td>2020-03-05</td>\n",
              "      <td>6:00 PM</td>\n",
              "      <td>Uttar Pradesh</td>\n",
              "      <td>7</td>\n",
              "      <td>0</td>\n",
              "      <td>0</td>\n",
              "      <td>0</td>\n",
              "      <td>7</td>\n",
              "    </tr>\n",
              "    <tr>\n",
              "      <th>55</th>\n",
              "      <td>56</td>\n",
              "      <td>2020-03-06</td>\n",
              "      <td>6:00 PM</td>\n",
              "      <td>Uttar Pradesh</td>\n",
              "      <td>7</td>\n",
              "      <td>0</td>\n",
              "      <td>0</td>\n",
              "      <td>0</td>\n",
              "      <td>7</td>\n",
              "    </tr>\n",
              "    <tr>\n",
              "      <th>58</th>\n",
              "      <td>59</td>\n",
              "      <td>2020-03-07</td>\n",
              "      <td>6:00 PM</td>\n",
              "      <td>Uttar Pradesh</td>\n",
              "      <td>7</td>\n",
              "      <td>0</td>\n",
              "      <td>0</td>\n",
              "      <td>0</td>\n",
              "      <td>7</td>\n",
              "    </tr>\n",
              "    <tr>\n",
              "      <th>72</th>\n",
              "      <td>73</td>\n",
              "      <td>2020-03-08</td>\n",
              "      <td>6:00 PM</td>\n",
              "      <td>Uttar Pradesh</td>\n",
              "      <td>7</td>\n",
              "      <td>0</td>\n",
              "      <td>0</td>\n",
              "      <td>0</td>\n",
              "      <td>7</td>\n",
              "    </tr>\n",
              "  </tbody>\n",
              "</table>\n",
              "</div>"
            ],
            "text/plain": [
              "    Sno        Date     Time  ... Cured Deaths Confirmed\n",
              "39   40  2020-03-04  6:00 PM  ...     0      0         6\n",
              "50   51  2020-03-05  6:00 PM  ...     0      0         7\n",
              "55   56  2020-03-06  6:00 PM  ...     0      0         7\n",
              "58   59  2020-03-07  6:00 PM  ...     0      0         7\n",
              "72   73  2020-03-08  6:00 PM  ...     0      0         7\n",
              "\n",
              "[5 rows x 9 columns]"
            ]
          },
          "metadata": {},
          "execution_count": 91
        }
      ]
    },
    {
      "cell_type": "code",
      "metadata": {
        "id": "Q2U08vBkvwrx"
      },
      "source": [
        "import numpy as np"
      ],
      "execution_count": null,
      "outputs": []
    },
    {
      "cell_type": "code",
      "metadata": {
        "id": "qG1RkVOXu9qR"
      },
      "source": [
        "covid_19_india = covid_19_india.replace('-', np.NaN)\n"
      ],
      "execution_count": null,
      "outputs": []
    },
    {
      "cell_type": "code",
      "metadata": {
        "colab": {
          "base_uri": "https://localhost:8080/",
          "height": 1000
        },
        "id": "vpzn0wutxM7K",
        "outputId": "d587b5a1-3607-4e05-a689-21c87b1b1eb2"
      },
      "source": [
        "covid_19_india[covid_19_india[\"ConfirmedIndianNational\"].notna()]"
      ],
      "execution_count": null,
      "outputs": [
        {
          "output_type": "execute_result",
          "data": {
            "text/html": [
              "<div>\n",
              "<style scoped>\n",
              "    .dataframe tbody tr th:only-of-type {\n",
              "        vertical-align: middle;\n",
              "    }\n",
              "\n",
              "    .dataframe tbody tr th {\n",
              "        vertical-align: top;\n",
              "    }\n",
              "\n",
              "    .dataframe thead th {\n",
              "        text-align: right;\n",
              "    }\n",
              "</style>\n",
              "<table border=\"1\" class=\"dataframe\">\n",
              "  <thead>\n",
              "    <tr style=\"text-align: right;\">\n",
              "      <th></th>\n",
              "      <th>Sno</th>\n",
              "      <th>Date</th>\n",
              "      <th>Time</th>\n",
              "      <th>State/UnionTerritory</th>\n",
              "      <th>ConfirmedIndianNational</th>\n",
              "      <th>ConfirmedForeignNational</th>\n",
              "      <th>Cured</th>\n",
              "      <th>Deaths</th>\n",
              "      <th>Confirmed</th>\n",
              "    </tr>\n",
              "  </thead>\n",
              "  <tbody>\n",
              "    <tr>\n",
              "      <th>39</th>\n",
              "      <td>40</td>\n",
              "      <td>2020-03-04</td>\n",
              "      <td>6:00 PM</td>\n",
              "      <td>Uttar Pradesh</td>\n",
              "      <td>6</td>\n",
              "      <td>0</td>\n",
              "      <td>0</td>\n",
              "      <td>0</td>\n",
              "      <td>6</td>\n",
              "    </tr>\n",
              "    <tr>\n",
              "      <th>50</th>\n",
              "      <td>51</td>\n",
              "      <td>2020-03-05</td>\n",
              "      <td>6:00 PM</td>\n",
              "      <td>Uttar Pradesh</td>\n",
              "      <td>7</td>\n",
              "      <td>0</td>\n",
              "      <td>0</td>\n",
              "      <td>0</td>\n",
              "      <td>7</td>\n",
              "    </tr>\n",
              "    <tr>\n",
              "      <th>55</th>\n",
              "      <td>56</td>\n",
              "      <td>2020-03-06</td>\n",
              "      <td>6:00 PM</td>\n",
              "      <td>Uttar Pradesh</td>\n",
              "      <td>7</td>\n",
              "      <td>0</td>\n",
              "      <td>0</td>\n",
              "      <td>0</td>\n",
              "      <td>7</td>\n",
              "    </tr>\n",
              "    <tr>\n",
              "      <th>58</th>\n",
              "      <td>59</td>\n",
              "      <td>2020-03-07</td>\n",
              "      <td>6:00 PM</td>\n",
              "      <td>Uttar Pradesh</td>\n",
              "      <td>7</td>\n",
              "      <td>0</td>\n",
              "      <td>0</td>\n",
              "      <td>0</td>\n",
              "      <td>7</td>\n",
              "    </tr>\n",
              "    <tr>\n",
              "      <th>72</th>\n",
              "      <td>73</td>\n",
              "      <td>2020-03-08</td>\n",
              "      <td>6:00 PM</td>\n",
              "      <td>Uttar Pradesh</td>\n",
              "      <td>7</td>\n",
              "      <td>0</td>\n",
              "      <td>0</td>\n",
              "      <td>0</td>\n",
              "      <td>7</td>\n",
              "    </tr>\n",
              "    <tr>\n",
              "      <th>76</th>\n",
              "      <td>77</td>\n",
              "      <td>2020-03-09</td>\n",
              "      <td>6:00 PM</td>\n",
              "      <td>Maharashtra</td>\n",
              "      <td>2</td>\n",
              "      <td>0</td>\n",
              "      <td>0</td>\n",
              "      <td>0</td>\n",
              "      <td>2</td>\n",
              "    </tr>\n",
              "    <tr>\n",
              "      <th>82</th>\n",
              "      <td>83</td>\n",
              "      <td>2020-03-09</td>\n",
              "      <td>6:00 PM</td>\n",
              "      <td>Uttar Pradesh</td>\n",
              "      <td>7</td>\n",
              "      <td>0</td>\n",
              "      <td>0</td>\n",
              "      <td>0</td>\n",
              "      <td>7</td>\n",
              "    </tr>\n",
              "    <tr>\n",
              "      <th>85</th>\n",
              "      <td>86</td>\n",
              "      <td>2020-03-10</td>\n",
              "      <td>6:00 PM</td>\n",
              "      <td>Uttar Pradesh</td>\n",
              "      <td>7</td>\n",
              "      <td>0</td>\n",
              "      <td>0</td>\n",
              "      <td>0</td>\n",
              "      <td>7</td>\n",
              "    </tr>\n",
              "    <tr>\n",
              "      <th>91</th>\n",
              "      <td>92</td>\n",
              "      <td>2020-03-10</td>\n",
              "      <td>6:00 PM</td>\n",
              "      <td>Maharashtra</td>\n",
              "      <td>5</td>\n",
              "      <td>0</td>\n",
              "      <td>0</td>\n",
              "      <td>0</td>\n",
              "      <td>5</td>\n",
              "    </tr>\n",
              "    <tr>\n",
              "      <th>97</th>\n",
              "      <td>98</td>\n",
              "      <td>2020-03-11</td>\n",
              "      <td>6:00 PM</td>\n",
              "      <td>Maharashtra</td>\n",
              "      <td>2</td>\n",
              "      <td>0</td>\n",
              "      <td>0</td>\n",
              "      <td>0</td>\n",
              "      <td>2</td>\n",
              "    </tr>\n",
              "    <tr>\n",
              "      <th>103</th>\n",
              "      <td>104</td>\n",
              "      <td>2020-03-11</td>\n",
              "      <td>6:00 PM</td>\n",
              "      <td>Uttar Pradesh</td>\n",
              "      <td>9</td>\n",
              "      <td>0</td>\n",
              "      <td>0</td>\n",
              "      <td>0</td>\n",
              "      <td>9</td>\n",
              "    </tr>\n",
              "    <tr>\n",
              "      <th>114</th>\n",
              "      <td>115</td>\n",
              "      <td>2020-03-12</td>\n",
              "      <td>6:00 PM</td>\n",
              "      <td>Uttar Pradesh</td>\n",
              "      <td>10</td>\n",
              "      <td>1</td>\n",
              "      <td>0</td>\n",
              "      <td>0</td>\n",
              "      <td>11</td>\n",
              "    </tr>\n",
              "    <tr>\n",
              "      <th>120</th>\n",
              "      <td>121</td>\n",
              "      <td>2020-03-12</td>\n",
              "      <td>6:00 PM</td>\n",
              "      <td>Maharashtra</td>\n",
              "      <td>11</td>\n",
              "      <td>0</td>\n",
              "      <td>0</td>\n",
              "      <td>0</td>\n",
              "      <td>11</td>\n",
              "    </tr>\n",
              "    <tr>\n",
              "      <th>127</th>\n",
              "      <td>128</td>\n",
              "      <td>2020-03-13</td>\n",
              "      <td>6:00 PM</td>\n",
              "      <td>Uttar Pradesh</td>\n",
              "      <td>10</td>\n",
              "      <td>1</td>\n",
              "      <td>0</td>\n",
              "      <td>0</td>\n",
              "      <td>11</td>\n",
              "    </tr>\n",
              "    <tr>\n",
              "      <th>133</th>\n",
              "      <td>134</td>\n",
              "      <td>2020-03-13</td>\n",
              "      <td>6:00 PM</td>\n",
              "      <td>Maharashtra</td>\n",
              "      <td>14</td>\n",
              "      <td>0</td>\n",
              "      <td>0</td>\n",
              "      <td>0</td>\n",
              "      <td>14</td>\n",
              "    </tr>\n",
              "    <tr>\n",
              "      <th>140</th>\n",
              "      <td>141</td>\n",
              "      <td>2020-03-14</td>\n",
              "      <td>6:00 PM</td>\n",
              "      <td>Uttar Pradesh</td>\n",
              "      <td>11</td>\n",
              "      <td>1</td>\n",
              "      <td>5</td>\n",
              "      <td>0</td>\n",
              "      <td>12</td>\n",
              "    </tr>\n",
              "    <tr>\n",
              "      <th>146</th>\n",
              "      <td>147</td>\n",
              "      <td>2020-03-14</td>\n",
              "      <td>6:00 PM</td>\n",
              "      <td>Maharashtra</td>\n",
              "      <td>14</td>\n",
              "      <td>0</td>\n",
              "      <td>0</td>\n",
              "      <td>0</td>\n",
              "      <td>14</td>\n",
              "    </tr>\n",
              "    <tr>\n",
              "      <th>153</th>\n",
              "      <td>154</td>\n",
              "      <td>2020-03-15</td>\n",
              "      <td>6:00 PM</td>\n",
              "      <td>Maharashtra</td>\n",
              "      <td>32</td>\n",
              "      <td>0</td>\n",
              "      <td>0</td>\n",
              "      <td>0</td>\n",
              "      <td>32</td>\n",
              "    </tr>\n",
              "    <tr>\n",
              "      <th>160</th>\n",
              "      <td>161</td>\n",
              "      <td>2020-03-15</td>\n",
              "      <td>6:00 PM</td>\n",
              "      <td>Uttar Pradesh</td>\n",
              "      <td>12</td>\n",
              "      <td>1</td>\n",
              "      <td>4</td>\n",
              "      <td>0</td>\n",
              "      <td>13</td>\n",
              "    </tr>\n",
              "    <tr>\n",
              "      <th>167</th>\n",
              "      <td>168</td>\n",
              "      <td>2020-03-16</td>\n",
              "      <td>6:00 PM</td>\n",
              "      <td>Maharashtra</td>\n",
              "      <td>32</td>\n",
              "      <td>0</td>\n",
              "      <td>0</td>\n",
              "      <td>0</td>\n",
              "      <td>32</td>\n",
              "    </tr>\n",
              "    <tr>\n",
              "      <th>175</th>\n",
              "      <td>176</td>\n",
              "      <td>2020-03-16</td>\n",
              "      <td>6:00 PM</td>\n",
              "      <td>Uttar Pradesh</td>\n",
              "      <td>12</td>\n",
              "      <td>1</td>\n",
              "      <td>4</td>\n",
              "      <td>0</td>\n",
              "      <td>13</td>\n",
              "    </tr>\n",
              "    <tr>\n",
              "      <th>182</th>\n",
              "      <td>183</td>\n",
              "      <td>2020-03-17</td>\n",
              "      <td>6:00 PM</td>\n",
              "      <td>Maharashtra</td>\n",
              "      <td>36</td>\n",
              "      <td>3</td>\n",
              "      <td>0</td>\n",
              "      <td>1</td>\n",
              "      <td>39</td>\n",
              "    </tr>\n",
              "    <tr>\n",
              "      <th>190</th>\n",
              "      <td>191</td>\n",
              "      <td>2020-03-17</td>\n",
              "      <td>6:00 PM</td>\n",
              "      <td>Uttar Pradesh</td>\n",
              "      <td>14</td>\n",
              "      <td>1</td>\n",
              "      <td>5</td>\n",
              "      <td>0</td>\n",
              "      <td>15</td>\n",
              "    </tr>\n",
              "    <tr>\n",
              "      <th>197</th>\n",
              "      <td>198</td>\n",
              "      <td>2020-03-18</td>\n",
              "      <td>6:00 PM</td>\n",
              "      <td>Maharashtra</td>\n",
              "      <td>39</td>\n",
              "      <td>3</td>\n",
              "      <td>0</td>\n",
              "      <td>1</td>\n",
              "      <td>42</td>\n",
              "    </tr>\n",
              "    <tr>\n",
              "      <th>206</th>\n",
              "      <td>207</td>\n",
              "      <td>2020-03-18</td>\n",
              "      <td>6:00 PM</td>\n",
              "      <td>Uttar Pradesh</td>\n",
              "      <td>15</td>\n",
              "      <td>1</td>\n",
              "      <td>5</td>\n",
              "      <td>0</td>\n",
              "      <td>16</td>\n",
              "    </tr>\n",
              "    <tr>\n",
              "      <th>215</th>\n",
              "      <td>216</td>\n",
              "      <td>2020-03-19</td>\n",
              "      <td>6:00 PM</td>\n",
              "      <td>Maharashtra</td>\n",
              "      <td>44</td>\n",
              "      <td>3</td>\n",
              "      <td>0</td>\n",
              "      <td>1</td>\n",
              "      <td>47</td>\n",
              "    </tr>\n",
              "    <tr>\n",
              "      <th>225</th>\n",
              "      <td>226</td>\n",
              "      <td>2020-03-19</td>\n",
              "      <td>6:00 PM</td>\n",
              "      <td>Uttar Pradesh</td>\n",
              "      <td>18</td>\n",
              "      <td>1</td>\n",
              "      <td>9</td>\n",
              "      <td>0</td>\n",
              "      <td>19</td>\n",
              "    </tr>\n",
              "    <tr>\n",
              "      <th>235</th>\n",
              "      <td>236</td>\n",
              "      <td>2020-03-20</td>\n",
              "      <td>6:00 PM</td>\n",
              "      <td>Maharashtra</td>\n",
              "      <td>49</td>\n",
              "      <td>3</td>\n",
              "      <td>0</td>\n",
              "      <td>1</td>\n",
              "      <td>52</td>\n",
              "    </tr>\n",
              "    <tr>\n",
              "      <th>245</th>\n",
              "      <td>246</td>\n",
              "      <td>2020-03-20</td>\n",
              "      <td>6:00 PM</td>\n",
              "      <td>Uttar Pradesh</td>\n",
              "      <td>22</td>\n",
              "      <td>1</td>\n",
              "      <td>9</td>\n",
              "      <td>0</td>\n",
              "      <td>23</td>\n",
              "    </tr>\n",
              "    <tr>\n",
              "      <th>257</th>\n",
              "      <td>258</td>\n",
              "      <td>2020-03-21</td>\n",
              "      <td>6:00 PM</td>\n",
              "      <td>Maharashtra</td>\n",
              "      <td>60</td>\n",
              "      <td>3</td>\n",
              "      <td>0</td>\n",
              "      <td>1</td>\n",
              "      <td>63</td>\n",
              "    </tr>\n",
              "    <tr>\n",
              "      <th>267</th>\n",
              "      <td>268</td>\n",
              "      <td>2020-03-21</td>\n",
              "      <td>6:00 PM</td>\n",
              "      <td>Uttar Pradesh</td>\n",
              "      <td>23</td>\n",
              "      <td>1</td>\n",
              "      <td>9</td>\n",
              "      <td>0</td>\n",
              "      <td>24</td>\n",
              "    </tr>\n",
              "    <tr>\n",
              "      <th>280</th>\n",
              "      <td>281</td>\n",
              "      <td>2020-03-22</td>\n",
              "      <td>6:00 PM</td>\n",
              "      <td>Maharashtra</td>\n",
              "      <td>64</td>\n",
              "      <td>3</td>\n",
              "      <td>0</td>\n",
              "      <td>2</td>\n",
              "      <td>67</td>\n",
              "    </tr>\n",
              "    <tr>\n",
              "      <th>290</th>\n",
              "      <td>291</td>\n",
              "      <td>2020-03-22</td>\n",
              "      <td>6:00 PM</td>\n",
              "      <td>Uttar Pradesh</td>\n",
              "      <td>26</td>\n",
              "      <td>1</td>\n",
              "      <td>9</td>\n",
              "      <td>0</td>\n",
              "      <td>27</td>\n",
              "    </tr>\n",
              "    <tr>\n",
              "      <th>303</th>\n",
              "      <td>304</td>\n",
              "      <td>2020-03-23</td>\n",
              "      <td>6:00 PM</td>\n",
              "      <td>Maharashtra</td>\n",
              "      <td>71</td>\n",
              "      <td>3</td>\n",
              "      <td>0</td>\n",
              "      <td>2</td>\n",
              "      <td>74</td>\n",
              "    </tr>\n",
              "    <tr>\n",
              "      <th>313</th>\n",
              "      <td>314</td>\n",
              "      <td>2020-03-23</td>\n",
              "      <td>6:00 PM</td>\n",
              "      <td>Uttar Pradesh</td>\n",
              "      <td>30</td>\n",
              "      <td>1</td>\n",
              "      <td>9</td>\n",
              "      <td>0</td>\n",
              "      <td>31</td>\n",
              "    </tr>\n",
              "    <tr>\n",
              "      <th>326</th>\n",
              "      <td>327</td>\n",
              "      <td>2020-03-24</td>\n",
              "      <td>6:00 PM</td>\n",
              "      <td>Maharashtra</td>\n",
              "      <td>86</td>\n",
              "      <td>3</td>\n",
              "      <td>0</td>\n",
              "      <td>2</td>\n",
              "      <td>89</td>\n",
              "    </tr>\n",
              "    <tr>\n",
              "      <th>337</th>\n",
              "      <td>338</td>\n",
              "      <td>2020-03-24</td>\n",
              "      <td>6:00 PM</td>\n",
              "      <td>Uttar Pradesh</td>\n",
              "      <td>32</td>\n",
              "      <td>1</td>\n",
              "      <td>11</td>\n",
              "      <td>0</td>\n",
              "      <td>33</td>\n",
              "    </tr>\n",
              "    <tr>\n",
              "      <th>350</th>\n",
              "      <td>351</td>\n",
              "      <td>2020-03-25</td>\n",
              "      <td>6:00 PM</td>\n",
              "      <td>Maharashtra</td>\n",
              "      <td>125</td>\n",
              "      <td>3</td>\n",
              "      <td>1</td>\n",
              "      <td>3</td>\n",
              "      <td>128</td>\n",
              "    </tr>\n",
              "    <tr>\n",
              "      <th>362</th>\n",
              "      <td>363</td>\n",
              "      <td>2020-03-25</td>\n",
              "      <td>6:00 PM</td>\n",
              "      <td>Uttar Pradesh</td>\n",
              "      <td>36</td>\n",
              "      <td>1</td>\n",
              "      <td>11</td>\n",
              "      <td>0</td>\n",
              "      <td>37</td>\n",
              "    </tr>\n",
              "    <tr>\n",
              "      <th>380</th>\n",
              "      <td>381</td>\n",
              "      <td>2020-03-26</td>\n",
              "      <td>6:00 PM</td>\n",
              "      <td>Maharashtra</td>\n",
              "      <td>121</td>\n",
              "      <td>3</td>\n",
              "      <td>1</td>\n",
              "      <td>3</td>\n",
              "      <td>124</td>\n",
              "    </tr>\n",
              "    <tr>\n",
              "      <th>390</th>\n",
              "      <td>391</td>\n",
              "      <td>2020-03-26</td>\n",
              "      <td>6:00 PM</td>\n",
              "      <td>Uttar Pradesh</td>\n",
              "      <td>40</td>\n",
              "      <td>1</td>\n",
              "      <td>11</td>\n",
              "      <td>0</td>\n",
              "      <td>41</td>\n",
              "    </tr>\n",
              "    <tr>\n",
              "      <th>407</th>\n",
              "      <td>408</td>\n",
              "      <td>2020-03-27</td>\n",
              "      <td>10:00 AM</td>\n",
              "      <td>Maharashtra</td>\n",
              "      <td>127</td>\n",
              "      <td>3</td>\n",
              "      <td>15</td>\n",
              "      <td>4</td>\n",
              "      <td>130</td>\n",
              "    </tr>\n",
              "    <tr>\n",
              "      <th>417</th>\n",
              "      <td>418</td>\n",
              "      <td>2020-03-27</td>\n",
              "      <td>10:00 AM</td>\n",
              "      <td>Uttar Pradesh</td>\n",
              "      <td>40</td>\n",
              "      <td>1</td>\n",
              "      <td>11</td>\n",
              "      <td>0</td>\n",
              "      <td>41</td>\n",
              "    </tr>\n",
              "    <tr>\n",
              "      <th>434</th>\n",
              "      <td>435</td>\n",
              "      <td>2020-03-28</td>\n",
              "      <td>6:00 PM</td>\n",
              "      <td>Maharashtra</td>\n",
              "      <td>177</td>\n",
              "      <td>3</td>\n",
              "      <td>25</td>\n",
              "      <td>5</td>\n",
              "      <td>180</td>\n",
              "    </tr>\n",
              "    <tr>\n",
              "      <th>444</th>\n",
              "      <td>445</td>\n",
              "      <td>2020-03-28</td>\n",
              "      <td>6:00 PM</td>\n",
              "      <td>Uttar Pradesh</td>\n",
              "      <td>54</td>\n",
              "      <td>1</td>\n",
              "      <td>11</td>\n",
              "      <td>0</td>\n",
              "      <td>55</td>\n",
              "    </tr>\n",
              "  </tbody>\n",
              "</table>\n",
              "</div>"
            ],
            "text/plain": [
              "     Sno        Date      Time  ... Cured Deaths Confirmed\n",
              "39    40  2020-03-04   6:00 PM  ...     0      0         6\n",
              "50    51  2020-03-05   6:00 PM  ...     0      0         7\n",
              "55    56  2020-03-06   6:00 PM  ...     0      0         7\n",
              "58    59  2020-03-07   6:00 PM  ...     0      0         7\n",
              "72    73  2020-03-08   6:00 PM  ...     0      0         7\n",
              "76    77  2020-03-09   6:00 PM  ...     0      0         2\n",
              "82    83  2020-03-09   6:00 PM  ...     0      0         7\n",
              "85    86  2020-03-10   6:00 PM  ...     0      0         7\n",
              "91    92  2020-03-10   6:00 PM  ...     0      0         5\n",
              "97    98  2020-03-11   6:00 PM  ...     0      0         2\n",
              "103  104  2020-03-11   6:00 PM  ...     0      0         9\n",
              "114  115  2020-03-12   6:00 PM  ...     0      0        11\n",
              "120  121  2020-03-12   6:00 PM  ...     0      0        11\n",
              "127  128  2020-03-13   6:00 PM  ...     0      0        11\n",
              "133  134  2020-03-13   6:00 PM  ...     0      0        14\n",
              "140  141  2020-03-14   6:00 PM  ...     5      0        12\n",
              "146  147  2020-03-14   6:00 PM  ...     0      0        14\n",
              "153  154  2020-03-15   6:00 PM  ...     0      0        32\n",
              "160  161  2020-03-15   6:00 PM  ...     4      0        13\n",
              "167  168  2020-03-16   6:00 PM  ...     0      0        32\n",
              "175  176  2020-03-16   6:00 PM  ...     4      0        13\n",
              "182  183  2020-03-17   6:00 PM  ...     0      1        39\n",
              "190  191  2020-03-17   6:00 PM  ...     5      0        15\n",
              "197  198  2020-03-18   6:00 PM  ...     0      1        42\n",
              "206  207  2020-03-18   6:00 PM  ...     5      0        16\n",
              "215  216  2020-03-19   6:00 PM  ...     0      1        47\n",
              "225  226  2020-03-19   6:00 PM  ...     9      0        19\n",
              "235  236  2020-03-20   6:00 PM  ...     0      1        52\n",
              "245  246  2020-03-20   6:00 PM  ...     9      0        23\n",
              "257  258  2020-03-21   6:00 PM  ...     0      1        63\n",
              "267  268  2020-03-21   6:00 PM  ...     9      0        24\n",
              "280  281  2020-03-22   6:00 PM  ...     0      2        67\n",
              "290  291  2020-03-22   6:00 PM  ...     9      0        27\n",
              "303  304  2020-03-23   6:00 PM  ...     0      2        74\n",
              "313  314  2020-03-23   6:00 PM  ...     9      0        31\n",
              "326  327  2020-03-24   6:00 PM  ...     0      2        89\n",
              "337  338  2020-03-24   6:00 PM  ...    11      0        33\n",
              "350  351  2020-03-25   6:00 PM  ...     1      3       128\n",
              "362  363  2020-03-25   6:00 PM  ...    11      0        37\n",
              "380  381  2020-03-26   6:00 PM  ...     1      3       124\n",
              "390  391  2020-03-26   6:00 PM  ...    11      0        41\n",
              "407  408  2020-03-27  10:00 AM  ...    15      4       130\n",
              "417  418  2020-03-27  10:00 AM  ...    11      0        41\n",
              "434  435  2020-03-28   6:00 PM  ...    25      5       180\n",
              "444  445  2020-03-28   6:00 PM  ...    11      0        55\n",
              "\n",
              "[45 rows x 9 columns]"
            ]
          },
          "metadata": {},
          "execution_count": 101
        }
      ]
    },
    {
      "cell_type": "markdown",
      "metadata": {
        "id": "tsOPz17vwz63"
      },
      "source": [
        "Очень много данных с незаполненными данными о том, заболел коренной житель или приезжий"
      ]
    },
    {
      "cell_type": "code",
      "metadata": {
        "colab": {
          "base_uri": "https://localhost:8080/"
        },
        "id": "mPrtgGVivoXO",
        "outputId": "f49b6058-2863-4b5b-99ac-b4ab83604b26"
      },
      "source": [
        "covid_19_india.isnull().sum()"
      ],
      "execution_count": null,
      "outputs": [
        {
          "output_type": "execute_result",
          "data": {
            "text/plain": [
              "Sno                            0\n",
              "Date                           0\n",
              "Time                           0\n",
              "State/UnionTerritory           0\n",
              "ConfirmedIndianNational     1001\n",
              "ConfirmedForeignNational    1001\n",
              "Cured                          0\n",
              "Deaths                         0\n",
              "Confirmed                      0\n",
              "dtype: int64"
            ]
          },
          "metadata": {},
          "execution_count": 100
        }
      ]
    },
    {
      "cell_type": "code",
      "metadata": {
        "colab": {
          "base_uri": "https://localhost:8080/",
          "height": 196
        },
        "id": "MdV4PofBxaP4",
        "outputId": "c279185d-320a-4f20-e1df-d2feaacc8eaa"
      },
      "source": [
        "covid_19_india.groupby(\"State/UnionTerritory\")[\"Cured\", \"Deaths\", \"Confirmed\"].max()"
      ],
      "execution_count": null,
      "outputs": [
        {
          "output_type": "stream",
          "name": "stderr",
          "text": [
            "/usr/local/lib/python3.7/dist-packages/ipykernel_launcher.py:1: FutureWarning: Indexing with multiple keys (implicitly converted to a tuple of keys) will be deprecated, use a list instead.\n",
            "  \"\"\"Entry point for launching an IPython kernel.\n"
          ]
        },
        {
          "output_type": "execute_result",
          "data": {
            "text/html": [
              "<div>\n",
              "<style scoped>\n",
              "    .dataframe tbody tr th:only-of-type {\n",
              "        vertical-align: middle;\n",
              "    }\n",
              "\n",
              "    .dataframe tbody tr th {\n",
              "        vertical-align: top;\n",
              "    }\n",
              "\n",
              "    .dataframe thead th {\n",
              "        text-align: right;\n",
              "    }\n",
              "</style>\n",
              "<table border=\"1\" class=\"dataframe\">\n",
              "  <thead>\n",
              "    <tr style=\"text-align: right;\">\n",
              "      <th></th>\n",
              "      <th>Cured</th>\n",
              "      <th>Deaths</th>\n",
              "      <th>Confirmed</th>\n",
              "    </tr>\n",
              "    <tr>\n",
              "      <th>State/UnionTerritory</th>\n",
              "      <th></th>\n",
              "      <th></th>\n",
              "      <th></th>\n",
              "    </tr>\n",
              "  </thead>\n",
              "  <tbody>\n",
              "    <tr>\n",
              "      <th>Maharashtra</th>\n",
              "      <td>6159676</td>\n",
              "      <td>134201</td>\n",
              "      <td>6363442</td>\n",
              "    </tr>\n",
              "    <tr>\n",
              "      <th>Uttar Pradesh</th>\n",
              "      <td>1685492</td>\n",
              "      <td>22775</td>\n",
              "      <td>1708812</td>\n",
              "    </tr>\n",
              "  </tbody>\n",
              "</table>\n",
              "</div>"
            ],
            "text/plain": [
              "                        Cured  Deaths  Confirmed\n",
              "State/UnionTerritory                            \n",
              "Maharashtra           6159676  134201    6363442\n",
              "Uttar Pradesh         1685492   22775    1708812"
            ]
          },
          "metadata": {},
          "execution_count": 103
        }
      ]
    },
    {
      "cell_type": "markdown",
      "metadata": {
        "id": "eoRqJejayG6h"
      },
      "source": [
        "Несмотря на большее население в Uttar Pradesh меньше количество подтвержденных случаев ковида."
      ]
    },
    {
      "cell_type": "code",
      "metadata": {
        "id": "3RGuGQYayQJt"
      },
      "source": [
        "tests = pd.read_csv('covid19/StatewiseTestingDetails.csv')"
      ],
      "execution_count": null,
      "outputs": []
    },
    {
      "cell_type": "code",
      "metadata": {
        "id": "m8bRBizvysYL"
      },
      "source": [
        "tests = tests.loc[(tests[\"State\"] == \"Uttar Pradesh\") | (tests[\"State\"] == \"Maharashtra\")]"
      ],
      "execution_count": null,
      "outputs": []
    },
    {
      "cell_type": "code",
      "metadata": {
        "colab": {
          "base_uri": "https://localhost:8080/",
          "height": 204
        },
        "id": "z4uBraRcynhJ",
        "outputId": "e6db6fe6-2a77-4dc9-df88-be60c8172d67"
      },
      "source": [
        "tests.head()"
      ],
      "execution_count": null,
      "outputs": [
        {
          "output_type": "execute_result",
          "data": {
            "text/html": [
              "<div>\n",
              "<style scoped>\n",
              "    .dataframe tbody tr th:only-of-type {\n",
              "        vertical-align: middle;\n",
              "    }\n",
              "\n",
              "    .dataframe tbody tr th {\n",
              "        vertical-align: top;\n",
              "    }\n",
              "\n",
              "    .dataframe thead th {\n",
              "        text-align: right;\n",
              "    }\n",
              "</style>\n",
              "<table border=\"1\" class=\"dataframe\">\n",
              "  <thead>\n",
              "    <tr style=\"text-align: right;\">\n",
              "      <th></th>\n",
              "      <th>Date</th>\n",
              "      <th>State</th>\n",
              "      <th>TotalSamples</th>\n",
              "      <th>Negative</th>\n",
              "      <th>Positive</th>\n",
              "    </tr>\n",
              "  </thead>\n",
              "  <tbody>\n",
              "    <tr>\n",
              "      <th>8888</th>\n",
              "      <td>2020-04-05</td>\n",
              "      <td>Maharashtra</td>\n",
              "      <td>16008.0</td>\n",
              "      <td>14837</td>\n",
              "      <td>NaN</td>\n",
              "    </tr>\n",
              "    <tr>\n",
              "      <th>8889</th>\n",
              "      <td>2020-04-06</td>\n",
              "      <td>Maharashtra</td>\n",
              "      <td>17563.0</td>\n",
              "      <td>15808</td>\n",
              "      <td>868.0</td>\n",
              "    </tr>\n",
              "    <tr>\n",
              "      <th>8890</th>\n",
              "      <td>2020-04-07</td>\n",
              "      <td>Maharashtra</td>\n",
              "      <td>20877.0</td>\n",
              "      <td>19290</td>\n",
              "      <td>1018.0</td>\n",
              "    </tr>\n",
              "    <tr>\n",
              "      <th>8891</th>\n",
              "      <td>2020-04-09</td>\n",
              "      <td>Maharashtra</td>\n",
              "      <td>20877.0</td>\n",
              "      <td>19290</td>\n",
              "      <td>868.0</td>\n",
              "    </tr>\n",
              "    <tr>\n",
              "      <th>8892</th>\n",
              "      <td>2020-04-10</td>\n",
              "      <td>Maharashtra</td>\n",
              "      <td>30000.0</td>\n",
              "      <td>28865</td>\n",
              "      <td>1135.0</td>\n",
              "    </tr>\n",
              "  </tbody>\n",
              "</table>\n",
              "</div>"
            ],
            "text/plain": [
              "            Date        State  TotalSamples Negative  Positive\n",
              "8888  2020-04-05  Maharashtra       16008.0    14837       NaN\n",
              "8889  2020-04-06  Maharashtra       17563.0    15808     868.0\n",
              "8890  2020-04-07  Maharashtra       20877.0    19290    1018.0\n",
              "8891  2020-04-09  Maharashtra       20877.0    19290     868.0\n",
              "8892  2020-04-10  Maharashtra       30000.0    28865    1135.0"
            ]
          },
          "metadata": {},
          "execution_count": 109
        }
      ]
    },
    {
      "cell_type": "code",
      "metadata": {
        "colab": {
          "base_uri": "https://localhost:8080/"
        },
        "id": "8eFoFOdcyfNq",
        "outputId": "c044d6c2-3dcf-42b2-f136-0c15fdbbfb1e"
      },
      "source": [
        "tests.groupby(\"State\")[\"TotalSamples\"].max()"
      ],
      "execution_count": null,
      "outputs": [
        {
          "output_type": "execute_result",
          "data": {
            "text/plain": [
              "State\n",
              "Maharashtra      49905065.0\n",
              "Uttar Pradesh    67897856.0\n",
              "Name: TotalSamples, dtype: float64"
            ]
          },
          "metadata": {},
          "execution_count": 115
        }
      ]
    },
    {
      "cell_type": "code",
      "metadata": {
        "colab": {
          "base_uri": "https://localhost:8080/"
        },
        "id": "XjOtO9WX0Wk-",
        "outputId": "71554f35-2824-4138-e123-67ba333983f7"
      },
      "source": [
        "print(f\"Tests per person in Maharashtra\t {49905065.0 / mah_population}\")\n",
        "print(f\"Tests per person in Uttar Pradesh\t {67897856.0 / uttar_population}\")"
      ],
      "execution_count": null,
      "outputs": [
        {
          "output_type": "stream",
          "name": "stdout",
          "text": [
            "Tests per person in Maharashtra\t 0.4441020301572161\n",
            "Tests per person in Uttar Pradesh\t 0.34020119011344924\n"
          ]
        }
      ]
    },
    {
      "cell_type": "markdown",
      "metadata": {
        "id": "IThB1teK4a1R"
      },
      "source": [
        "Видим тестов на одного человека в штате Maharashtra больше."
      ]
    },
    {
      "cell_type": "code",
      "metadata": {
        "id": "UUgbz_OB2CAH"
      },
      "source": [
        "mah_tests = tests[tests[\"State\"] == \"Maharashtra\"]\n",
        "uttar_tests = tests[tests[\"State\"] == \"Uttar Pradesh\"]"
      ],
      "execution_count": null,
      "outputs": []
    },
    {
      "cell_type": "code",
      "metadata": {
        "id": "ddC9dGia2rXb"
      },
      "source": [
        "uttar_max_pos = uttar_tests.loc[uttar_tests[\"Positive\"].idxmax()]"
      ],
      "execution_count": null,
      "outputs": []
    },
    {
      "cell_type": "code",
      "metadata": {
        "id": "BPWvjNxc3JA7"
      },
      "source": [
        "mah_max_pos = mah_tests.loc[mah_tests[\"Positive\"].idxmax()]"
      ],
      "execution_count": null,
      "outputs": []
    },
    {
      "cell_type": "code",
      "metadata": {
        "id": "i5GZ6mBr399d"
      },
      "source": [
        "uttar_percent = uttar_max_pos[\"Positive\"] / uttar_max_pos[\"TotalSamples\"] * 100\n",
        "mah_percent = mah_max_pos[\"Positive\"] / mah_max_pos[\"TotalSamples\"] * 100"
      ],
      "execution_count": null,
      "outputs": []
    },
    {
      "cell_type": "code",
      "metadata": {
        "colab": {
          "base_uri": "https://localhost:8080/"
        },
        "id": "FjIz-AVr3XCW",
        "outputId": "fc817ee0-6fb9-4abe-bf69-ba0be383071f"
      },
      "source": [
        "print(f\"Day with max positive cases in Uttar Pradesh: positive/all_tests\tin %:  {uttar_percent}%\")\n",
        "print(f\"Day with max positive cases in Maharashtra: positive/all_tests\tin %:  {mah_percent}%\")"
      ],
      "execution_count": null,
      "outputs": [
        {
          "output_type": "stream",
          "name": "stdout",
          "text": [
            "Day with max positive cases in Uttar Pradesh: positive/all_tests\tin %:  3.948233838185412%\n",
            "Day with max positive cases in Maharashtra: positive/all_tests\tin %:  19.173538810552508%\n"
          ]
        }
      ]
    },
    {
      "cell_type": "markdown",
      "metadata": {
        "id": "D16PPcdE0x88"
      },
      "source": [
        "Видим что в Maharashtra 19% положительных тестов, а в Uttar Pradesh только 4%.\n",
        "\n",
        "Такую разницу можно объяснить либо строгими антиковидными мерами, либо фальсификацией статистики"
      ]
    }
  ]
}